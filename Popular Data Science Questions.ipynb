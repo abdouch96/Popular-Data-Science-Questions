{
 "cells": [
  {
   "cell_type": "markdown",
   "metadata": {},
   "source": [
    "# Questions courantes sur la science des données"
   ]
  },
  {
   "cell_type": "markdown",
   "metadata": {},
   "source": [
    "Notre objectif dans ce projet est d'utiliser [Data Science Stack Exchange](https://datascience.stackexchange.com/) pour déterminer le contenu qu'une entreprise de formation en science des données doit créer, en fonction de l'intérêt par sujet."
   ]
  },
  {
   "cell_type": "markdown",
   "metadata": {},
   "source": [
    "### Stack Exchange\n",
    "\n",
    "#### Quels types de questions sont les bienvenus sur ce site?\n",
    "\n",
    "Dans la [section](https://datascience.stackexchange.com/help/asking) du centre d'aide de DSSE sur les questions, nous pouvons lire que nous devrions:\n",
    "\n",
    "   -  Évitez les questions subjectives.\n",
    "   -  Posez des questions pratiques sur Data Science - il existe des sites adéquats pour les questions théoriques.\n",
    "   -  Posez des questions spécifiques.\n",
    "   -  Faites des questions pertinentes pour les autres.\n",
    "   \n",
    "Toutes ces caractéristiques, si elles sont utilisées, devraient être des attributs utiles à notre objectif.\n",
    "\n",
    "Dans le centre d'aide, nous avons également appris qu'en plus des sites mentionnés dans la section Apprendre, il existe deux autres sites pertinents:\n",
    "\n",
    "   -  [Open Data](https://opendata.stackexchange.com/help/on-topic) (Demandes d'ensembles de données)\n",
    "   -  [Computational Science](https://scicomp.stackexchange.com/help/on-topic) (Progiciels et algorithmes en mathématiques appliquées)\n",
    "   \n",
    "#### En quoi, à part les questions, se subdivise [la page d'accueil](https://datascience.stackexchange.com/) de DSSE? \n",
    "\n",
    "Sur la page d'accueil, nous pouvons voir que nous avons quatre sections:\n",
    "   - Questions - une liste de toutes les questions posées;\n",
    "   - Tags - une liste de Tags (mots clés ou étiquettes qui catégorisent les questions);\n",
    "   - Users  - une liste d'utilisateurs;\n",
    "   - Unanswered  - une liste de questions sans réponse;\n",
    "   \n",
    "Le système de tag utilisé par Stack Exchange ressemble exactement à ce dont nous avons besoin pour résoudre ce problème car il nous permet de quantifier le nombre de questions posées sur chaque sujet.\n",
    "\n",
    "Une autre chose que nous pouvons apprendre en explorant le centre d'aide, c'est que les sites de Stack Exchange sont fortement modérés par la communauté, cela nous donne une certaine confiance dans l'utilisation du système de tag pour tirer des conclusions.\n",
    "\n",
    "### Explorateur de données Stack Exchange\n",
    "\n",
    "En parcourant les noms des tables, quelques-unes se démarquent comme étant pertinentes pour notre objectif:\n",
    "  -  Posts\n",
    "  -  PostTags\n",
    "  -  Tags\n",
    "  -  TagSynonyms\n",
    "\n",
    "L'exécution de quelques requêtes exploratoires nous amène à concentrer nos efforts sur la table Posts. Par exemple, le tableau des Tags semblait très prometteur car il nous indique combien de fois chaque Tag a été utilisée, mais il n'y a aucun moyen de dire simplement à partir de cela si l'intérêt pour ces tags est récent ou appartient au passé."
   ]
  },
  {
   "cell_type": "markdown",
   "metadata": {},
   "source": [
    "| Id      | TagName | Count | ExcerptPostId | WikiPostId     |\n",
    "| :---:        |    :----:   |    :----:   |    :----:   |          :---: |\n",
    "|2 |\tmachine-learning |\t6919 |\t4909 |\t4908|\n",
    "|46 |\tpython |\t3907 |\t5523 |\t5522|\n",
    "|81 |\tneural-network| \t2923 |\t8885 \t|8884|\n",
    "|194 \t|deep-learning |\t2786 |\t8956 \t|8955|\n",
    "|77 \t|classification |\t1899 |\t4911 \t|4910|\n",
    "|324 \t|keras |\t1736 |\t9251 |\t9250|\n",
    "|128 |\tscikit-learn |\t1303 |\t5896 |\t5895|\n",
    "|321 |\ttensorflow |\t1224 |\t9183 |\t9182|\n",
    "|47| \tnlp |\t1162 |\t147 |\t146|\n",
    "|24 |\tr |\t1114 \t|49 |\t48|"
   ]
  },
  {
   "cell_type": "markdown",
   "metadata": {},
   "source": [
    "### Obtenir les données\n",
    "\n",
    "Pour obtenir les données pertinentes, nous exécutons la requête suivante.\n",
    "```\n",
    "SELECT Id, CreationDate,\n",
    "       Score, ViewCount, Tags,\n",
    "       AnswerCount, FavoriteCount\n",
    "  FROM posts\n",
    " WHERE PostTypeId = 1 AND YEAR(CreationDate) = 2019;\n",
    " ```\n",
    "Voici à quoi ressemblent les premières lignes:"
   ]
  },
  {
   "cell_type": "markdown",
   "metadata": {
    "collapsed": true
   },
   "source": [
    "| Id      | PostTypeId | CreationDate | Score | ViewCount  | Tags  | AnswerCount  | FavoriteCount  |\n",
    "| :---:        |    :----:   |    :----:   |    :----:   |  :---: |  :---: |  :---: |\n",
    "|44419 |\t1 |\t2019-01-23 09:21:13 |\t1 \t|21 |\t```<machine-learning><data-mining>```| 0 |\n",
    "|44420 |\t1 |\t2019-01-23 09:34:01 |\t0 |\t25 |```\t<machine-learning><regression><linear-regression><regularization>```| 0 |\n",
    "|44423 |\t1 |\t2019-01-23 09:58:41 |\t2 |\t1651 |```\t<python><time-series><forecast><forecasting>``` |\t0 |\n",
    "|44427 |\t1 |\t2019-01-23 10:57:09 |\t0 |\t55 |\t```<machine-learning><scikit-learn><pca> ```|\t1 |\t\n",
    "|44428 |\t1 |\t2019-01-23 11:02:15 |\t0 |\t19 |```\t<dataset><bigdata><data><speech-to-text> ```|0 |"
   ]
  },
  {
   "cell_type": "markdown",
   "metadata": {},
   "source": [
    "## Explorer les données\n",
    "\n",
    "Nous pouvons lire les données tout en nous assurant immédiatement que CreationDate sera stocké en tant qu'objet datetime:"
   ]
  },
  {
   "cell_type": "code",
   "execution_count": 1,
   "metadata": {
    "collapsed": true
   },
   "outputs": [],
   "source": [
    "import pandas as pd\n",
    "import matplotlib.pyplot as plt\n",
    "import seaborn as sns\n",
    "\n",
    "%matplotlib inline"
   ]
  },
  {
   "cell_type": "code",
   "execution_count": 2,
   "metadata": {
    "collapsed": true
   },
   "outputs": [],
   "source": [
    "questions = pd.read_csv(\"2019_questions.csv\", parse_dates=[\"CreationDate\"])"
   ]
  },
  {
   "cell_type": "code",
   "execution_count": 3,
   "metadata": {
    "collapsed": false
   },
   "outputs": [
    {
     "name": "stdout",
     "output_type": "stream",
     "text": [
      "<class 'pandas.core.frame.DataFrame'>\n",
      "RangeIndex: 8839 entries, 0 to 8838\n",
      "Data columns (total 7 columns):\n",
      "Id               8839 non-null int64\n",
      "CreationDate     8839 non-null datetime64[ns]\n",
      "Score            8839 non-null int64\n",
      "ViewCount        8839 non-null int64\n",
      "Tags             8839 non-null object\n",
      "AnswerCount      8839 non-null int64\n",
      "FavoriteCount    1407 non-null float64\n",
      "dtypes: datetime64[ns](1), float64(1), int64(4), object(1)\n",
      "memory usage: 483.5+ KB\n"
     ]
    }
   ],
   "source": [
    "questions.info()"
   ]
  },
  {
   "cell_type": "markdown",
   "metadata": {},
   "source": [
    "Nous voyons que seul FavoriteCount a des valeurs manquantes. Une valeur manquante dans cette colonne signifie probablement que la question n'était pas présente dans la liste des favoris des utilisateurs, nous pouvons donc remplacer les valeurs manquantes par zéro.\n",
    "\n",
    "Les types semblent adéquats pour chaque colonne, cependant, après avoir rempli les valeurs manquantes sur FavoriteCount, il n'y a aucune raison de stocker les valeurs sous forme de Float.\n",
    "\n",
    "Puisque l'objet dtype est un type fourre-tout, voyons quels sont les types des objets dans les questions [\"Tags\"]."
   ]
  },
  {
   "cell_type": "code",
   "execution_count": 4,
   "metadata": {
    "collapsed": false
   },
   "outputs": [
    {
     "data": {
      "text/plain": [
       "array([<class 'str'>], dtype=object)"
      ]
     },
     "execution_count": 4,
     "metadata": {},
     "output_type": "execute_result"
    }
   ],
   "source": [
    "questions[\"Tags\"].apply(lambda value: type(value)).unique()"
   ]
  },
  {
   "cell_type": "markdown",
   "metadata": {},
   "source": [
    "Nous voyons que chaque valeur de cette colonne est une chaîne. Sur Stack Exchange, chaque question ne peut avoir qu'un maximum de cinq tags ([source](do-i-correctly-tag-my-questions/18879#18879)), donc une façon de traiter cette colonne est de créer cinq colonnes dans les questions appelées Tag1, Tag2, Tag3, Tag4 et Tag5 et de remplir les colonnes avec les tags dans chaque ligne.\n",
    "\n",
    "Cependant, puisque cela n'aide pas à relier les tags d'une question à une autre, nous les garderons simplement sous forme de liste."
   ]
  },
  {
   "cell_type": "markdown",
   "metadata": {},
   "source": [
    "## Nettoyage des données\n",
    "\n",
    "Nous allons commencer par corriger FavoriteCount."
   ]
  },
  {
   "cell_type": "code",
   "execution_count": 5,
   "metadata": {
    "collapsed": false
   },
   "outputs": [
    {
     "data": {
      "text/plain": [
       "Id                        int64\n",
       "CreationDate     datetime64[ns]\n",
       "Score                     int64\n",
       "ViewCount                 int64\n",
       "Tags                     object\n",
       "AnswerCount               int64\n",
       "FavoriteCount             int64\n",
       "dtype: object"
      ]
     },
     "execution_count": 5,
     "metadata": {},
     "output_type": "execute_result"
    }
   ],
   "source": [
    "questions.fillna(value={\"FavoriteCount\": 0}, inplace=True)\n",
    "questions[\"FavoriteCount\"] = questions[\"FavoriteCount\"].astype(int)\n",
    "questions.dtypes"
   ]
  },
  {
   "cell_type": "markdown",
   "metadata": {},
   "source": [
    "Modifions maintenant les tags pour faciliter le travail."
   ]
  },
  {
   "cell_type": "code",
   "execution_count": 6,
   "metadata": {
    "collapsed": false
   },
   "outputs": [
    {
     "data": {
      "text/html": [
       "<div>\n",
       "<style scoped>\n",
       "    .dataframe tbody tr th:only-of-type {\n",
       "        vertical-align: middle;\n",
       "    }\n",
       "\n",
       "    .dataframe tbody tr th {\n",
       "        vertical-align: top;\n",
       "    }\n",
       "\n",
       "    .dataframe thead th {\n",
       "        text-align: right;\n",
       "    }\n",
       "</style>\n",
       "<table border=\"1\" class=\"dataframe\">\n",
       "  <thead>\n",
       "    <tr style=\"text-align: right;\">\n",
       "      <th></th>\n",
       "      <th>Id</th>\n",
       "      <th>CreationDate</th>\n",
       "      <th>Score</th>\n",
       "      <th>ViewCount</th>\n",
       "      <th>Tags</th>\n",
       "      <th>AnswerCount</th>\n",
       "      <th>FavoriteCount</th>\n",
       "    </tr>\n",
       "  </thead>\n",
       "  <tbody>\n",
       "    <tr>\n",
       "      <th>1623</th>\n",
       "      <td>57568</td>\n",
       "      <td>2019-08-14 19:45:53</td>\n",
       "      <td>2</td>\n",
       "      <td>111</td>\n",
       "      <td>[machine-learning, random-forest, decision-tre...</td>\n",
       "      <td>2</td>\n",
       "      <td>0</td>\n",
       "    </tr>\n",
       "    <tr>\n",
       "      <th>7405</th>\n",
       "      <td>43910</td>\n",
       "      <td>2019-01-13 10:23:58</td>\n",
       "      <td>4</td>\n",
       "      <td>92</td>\n",
       "      <td>[deep-learning, cnn]</td>\n",
       "      <td>1</td>\n",
       "      <td>0</td>\n",
       "    </tr>\n",
       "    <tr>\n",
       "      <th>8367</th>\n",
       "      <td>55072</td>\n",
       "      <td>2019-07-04 16:22:07</td>\n",
       "      <td>0</td>\n",
       "      <td>7</td>\n",
       "      <td>[machine-learning, statistics, feature-selecti...</td>\n",
       "      <td>0</td>\n",
       "      <td>0</td>\n",
       "    </tr>\n",
       "  </tbody>\n",
       "</table>\n",
       "</div>"
      ],
      "text/plain": [
       "         Id        CreationDate  Score  ViewCount  \\\n",
       "1623  57568 2019-08-14 19:45:53      2        111   \n",
       "7405  43910 2019-01-13 10:23:58      4         92   \n",
       "8367  55072 2019-07-04 16:22:07      0          7   \n",
       "\n",
       "                                                   Tags  AnswerCount  \\\n",
       "1623  [machine-learning, random-forest, decision-tre...            2   \n",
       "7405                               [deep-learning, cnn]            1   \n",
       "8367  [machine-learning, statistics, feature-selecti...            0   \n",
       "\n",
       "      FavoriteCount  \n",
       "1623              0  \n",
       "7405              0  \n",
       "8367              0  "
      ]
     },
     "execution_count": 6,
     "metadata": {},
     "output_type": "execute_result"
    }
   ],
   "source": [
    "questions[\"Tags\"] = questions[\"Tags\"].str.replace(\"^<|>$\", \"\").str.split(\"><\")\n",
    "questions.sample(3)"
   ]
  },
  {
   "cell_type": "markdown",
   "metadata": {},
   "source": [
    "## Les plus utilisés et les plus consultés\n",
    "\n",
    "Nous commencerons par compter le nombre de fois que chaque tag a été utilisé"
   ]
  },
  {
   "cell_type": "code",
   "execution_count": 7,
   "metadata": {
    "collapsed": true
   },
   "outputs": [],
   "source": [
    "tag_count = dict()\n",
    "\n",
    "for tags in questions[\"Tags\"]:\n",
    "    for tag in tags:\n",
    "        if tag in tag_count:\n",
    "            tag_count[tag] += 1\n",
    "        else:\n",
    "            tag_count[tag] = 1"
   ]
  },
  {
   "cell_type": "markdown",
   "metadata": {},
   "source": [
    "Pour une esthétique améliorée, transformons tag_count en dataframe."
   ]
  },
  {
   "cell_type": "code",
   "execution_count": 8,
   "metadata": {
    "collapsed": false
   },
   "outputs": [],
   "source": [
    "tag_count = pd.DataFrame.from_dict(tag_count, orient=\"index\")\n",
    "tag_count.rename(columns={0: \"Count\"}, inplace=True)\n"
   ]
  },
  {
   "cell_type": "markdown",
   "metadata": {},
   "source": [
    "Trions maintenant ce dataframe par Count et visualisons les 20 meilleurs résultats."
   ]
  },
  {
   "cell_type": "code",
   "execution_count": 9,
   "metadata": {
    "collapsed": false
   },
   "outputs": [
    {
     "data": {
      "text/html": [
       "<div>\n",
       "<style scoped>\n",
       "    .dataframe tbody tr th:only-of-type {\n",
       "        vertical-align: middle;\n",
       "    }\n",
       "\n",
       "    .dataframe tbody tr th {\n",
       "        vertical-align: top;\n",
       "    }\n",
       "\n",
       "    .dataframe thead th {\n",
       "        text-align: right;\n",
       "    }\n",
       "</style>\n",
       "<table border=\"1\" class=\"dataframe\">\n",
       "  <thead>\n",
       "    <tr style=\"text-align: right;\">\n",
       "      <th></th>\n",
       "      <th>Count</th>\n",
       "    </tr>\n",
       "  </thead>\n",
       "  <tbody>\n",
       "    <tr>\n",
       "      <th>machine-learning</th>\n",
       "      <td>2693</td>\n",
       "    </tr>\n",
       "    <tr>\n",
       "      <th>python</th>\n",
       "      <td>1814</td>\n",
       "    </tr>\n",
       "    <tr>\n",
       "      <th>deep-learning</th>\n",
       "      <td>1220</td>\n",
       "    </tr>\n",
       "    <tr>\n",
       "      <th>neural-network</th>\n",
       "      <td>1055</td>\n",
       "    </tr>\n",
       "    <tr>\n",
       "      <th>keras</th>\n",
       "      <td>935</td>\n",
       "    </tr>\n",
       "    <tr>\n",
       "      <th>classification</th>\n",
       "      <td>685</td>\n",
       "    </tr>\n",
       "    <tr>\n",
       "      <th>tensorflow</th>\n",
       "      <td>584</td>\n",
       "    </tr>\n",
       "    <tr>\n",
       "      <th>scikit-learn</th>\n",
       "      <td>540</td>\n",
       "    </tr>\n",
       "    <tr>\n",
       "      <th>nlp</th>\n",
       "      <td>493</td>\n",
       "    </tr>\n",
       "    <tr>\n",
       "      <th>cnn</th>\n",
       "      <td>489</td>\n",
       "    </tr>\n",
       "    <tr>\n",
       "      <th>time-series</th>\n",
       "      <td>466</td>\n",
       "    </tr>\n",
       "    <tr>\n",
       "      <th>lstm</th>\n",
       "      <td>402</td>\n",
       "    </tr>\n",
       "    <tr>\n",
       "      <th>pandas</th>\n",
       "      <td>354</td>\n",
       "    </tr>\n",
       "    <tr>\n",
       "      <th>regression</th>\n",
       "      <td>347</td>\n",
       "    </tr>\n",
       "    <tr>\n",
       "      <th>dataset</th>\n",
       "      <td>340</td>\n",
       "    </tr>\n",
       "    <tr>\n",
       "      <th>r</th>\n",
       "      <td>268</td>\n",
       "    </tr>\n",
       "    <tr>\n",
       "      <th>predictive-modeling</th>\n",
       "      <td>265</td>\n",
       "    </tr>\n",
       "    <tr>\n",
       "      <th>clustering</th>\n",
       "      <td>257</td>\n",
       "    </tr>\n",
       "    <tr>\n",
       "      <th>statistics</th>\n",
       "      <td>234</td>\n",
       "    </tr>\n",
       "    <tr>\n",
       "      <th>machine-learning-model</th>\n",
       "      <td>224</td>\n",
       "    </tr>\n",
       "  </tbody>\n",
       "</table>\n",
       "</div>"
      ],
      "text/plain": [
       "                        Count\n",
       "machine-learning         2693\n",
       "python                   1814\n",
       "deep-learning            1220\n",
       "neural-network           1055\n",
       "keras                     935\n",
       "classification            685\n",
       "tensorflow                584\n",
       "scikit-learn              540\n",
       "nlp                       493\n",
       "cnn                       489\n",
       "time-series               466\n",
       "lstm                      402\n",
       "pandas                    354\n",
       "regression                347\n",
       "dataset                   340\n",
       "r                         268\n",
       "predictive-modeling       265\n",
       "clustering                257\n",
       "statistics                234\n",
       "machine-learning-model    224"
      ]
     },
     "execution_count": 9,
     "metadata": {},
     "output_type": "execute_result"
    }
   ],
   "source": [
    "most_used = tag_count.sort_values(by=\"Count\", ascending=False).head(20)\n",
    "most_used"
   ]
  },
  {
   "cell_type": "markdown",
   "metadata": {},
   "source": [
    "Le seuil de 20 est arbitraire et nous pouvons expérimenter avec d'autres, cependant, la popularité des tags diminue rapidement, donc regarder ces tags devrait être suffisant pour nous aider à atteindre notre objectif. Visualisons ces données."
   ]
  },
  {
   "cell_type": "code",
   "execution_count": 10,
   "metadata": {
    "collapsed": false
   },
   "outputs": [
    {
     "data": {
      "text/plain": [
       "<matplotlib.axes._subplots.AxesSubplot at 0x7f8fe9150390>"
      ]
     },
     "execution_count": 10,
     "metadata": {},
     "output_type": "execute_result"
    },
    {
     "data": {
      "image/png": "[encoded data removed]",
      "text/plain": [
       "<matplotlib.figure.Figure at 0x7f8fe9150438>"
      ]
     },
     "metadata": {},
     "output_type": "display_data"
    }
   ],
   "source": [
    "most_used.plot(kind=\"barh\", figsize=(16,8))"
   ]
  },
  {
   "cell_type": "markdown",
   "metadata": {},
   "source": [
    "Certaines tags sont très, très larges et sont peu susceptibles d'être utiles; par exemple: python, dataset, r. Avant d'étudier les tags un peu plus en profondeur, répétons le même processus pour les vues."
   ]
  },
  {
   "cell_type": "code",
   "execution_count": 11,
   "metadata": {
    "collapsed": false
   },
   "outputs": [
    {
     "data": {
      "text/plain": [
       "<matplotlib.axes._subplots.AxesSubplot at 0x7f8fe874a128>"
      ]
     },
     "execution_count": 11,
     "metadata": {},
     "output_type": "execute_result"
    },
    {
     "data": {
      "image/png": "[encoded data removed]",
      "text/plain": [
       "<matplotlib.figure.Figure at 0x7f8fe93cdc18>"
      ]
     },
     "metadata": {},
     "output_type": "display_data"
    }
   ],
   "source": [
    "tag_view_count = dict()\n",
    "\n",
    "for index, row in questions.iterrows():\n",
    "    for tag in row['Tags']:\n",
    "        if tag in tag_view_count:\n",
    "            tag_view_count[tag] += row['ViewCount']\n",
    "        else:\n",
    "            tag_view_count[tag] = row['ViewCount']\n",
    "            \n",
    "tag_view_count = pd.DataFrame.from_dict(tag_view_count, orient=\"index\")\n",
    "tag_view_count.rename(columns={0: \"ViewCount\"}, inplace=True)\n",
    "\n",
    "most_viewed = tag_view_count.sort_values(by=\"ViewCount\", ascending=False).head(20)\n",
    "\n",
    "most_viewed.plot(kind=\"barh\", figsize=(16,8))\n"
   ]
  },
  {
   "cell_type": "markdown",
   "metadata": {},
   "source": [
    "Voyons-les côte à côte."
   ]
  },
  {
   "cell_type": "code",
   "execution_count": 12,
   "metadata": {
    "collapsed": false
   },
   "outputs": [
    {
     "data": {
      "text/plain": [
       "array([<matplotlib.axes._subplots.AxesSubplot object at 0x7f8fe8e932b0>],\n",
       "      dtype=object)"
      ]
     },
     "execution_count": 12,
     "metadata": {},
     "output_type": "execute_result"
    },
    {
     "data": {
      "image/png": "[encoded data removed]",
      "text/plain": [
       "<matplotlib.figure.Figure at 0x7f8fe86b4160>"
      ]
     },
     "metadata": {},
     "output_type": "display_data"
    }
   ],
   "source": [
    "fig, axes = plt.subplots(nrows=1, ncols=2)\n",
    "fig.set_size_inches((24, 10))\n",
    "most_used.plot(kind=\"barh\", ax=axes[0], subplots=True)\n",
    "most_viewed.plot(kind=\"barh\", ax=axes[1], subplots=True)"
   ]
  },
  {
   "cell_type": "code",
   "execution_count": 32,
   "metadata": {
    "collapsed": false
   },
   "outputs": [
    {
     "data": {
      "text/html": [
       "<div>\n",
       "<style scoped>\n",
       "    .dataframe tbody tr th:only-of-type {\n",
       "        vertical-align: middle;\n",
       "    }\n",
       "\n",
       "    .dataframe tbody tr th {\n",
       "        vertical-align: top;\n",
       "    }\n",
       "\n",
       "    .dataframe thead th {\n",
       "        text-align: right;\n",
       "    }\n",
       "</style>\n",
       "<table border=\"1\" class=\"dataframe\">\n",
       "  <thead>\n",
       "    <tr style=\"text-align: right;\">\n",
       "      <th></th>\n",
       "      <th>Count</th>\n",
       "      <th>ViewCount</th>\n",
       "    </tr>\n",
       "  </thead>\n",
       "  <tbody>\n",
       "    <tr>\n",
       "      <th>machine-learning</th>\n",
       "      <td>2693</td>\n",
       "      <td>388499.0</td>\n",
       "    </tr>\n",
       "    <tr>\n",
       "      <th>python</th>\n",
       "      <td>1814</td>\n",
       "      <td>537585.0</td>\n",
       "    </tr>\n",
       "    <tr>\n",
       "      <th>deep-learning</th>\n",
       "      <td>1220</td>\n",
       "      <td>233628.0</td>\n",
       "    </tr>\n",
       "    <tr>\n",
       "      <th>neural-network</th>\n",
       "      <td>1055</td>\n",
       "      <td>185367.0</td>\n",
       "    </tr>\n",
       "    <tr>\n",
       "      <th>keras</th>\n",
       "      <td>935</td>\n",
       "      <td>268608.0</td>\n",
       "    </tr>\n",
       "  </tbody>\n",
       "</table>\n",
       "</div>"
      ],
      "text/plain": [
       "                  Count  ViewCount\n",
       "machine-learning   2693   388499.0\n",
       "python             1814   537585.0\n",
       "deep-learning      1220   233628.0\n",
       "neural-network     1055   185367.0\n",
       "keras               935   268608.0"
      ]
     },
     "execution_count": 32,
     "metadata": {},
     "output_type": "execute_result"
    }
   ],
   "source": [
    "in_viewed = pd.merge(most_used, most_viewed, how=\"left\", left_index=True, right_index=True)\n",
    "in_viewed.head(5)"
   ]
  },
  {
   "cell_type": "markdown",
   "metadata": {},
   "source": [
    "## Relations entre les Tags\n",
    "\n",
    "Une façon d'essayer d'évaluer comment les paires des tags sont liées les unes aux autres est de compter le nombre de fois que chaque paire apparaît ensemble. Faisons cela.\n",
    "\n",
    "Nous commencerons par créer une liste de toutes les tags."
   ]
  },
  {
   "cell_type": "code",
   "execution_count": 14,
   "metadata": {
    "collapsed": false
   },
   "outputs": [],
   "source": [
    "all_tags = list(tag_count.index)"
   ]
  },
  {
   "cell_type": "markdown",
   "metadata": {},
   "source": [
    "We'll now create a dataframe where each row will represent a tag, and each column as well. Something like this:\n",
    "\n",
    "|       | tag1 | tag2 | tag3 |\n",
    "| ----------- | ----------- |----------- |----------- |\n",
    "|** tag1  **    |        |  |\n",
    "|** tag2 **  |         |  |\n",
    "|** tag3 **  |         |  |"
   ]
  },
  {
   "cell_type": "code",
   "execution_count": 15,
   "metadata": {
    "collapsed": false
   },
   "outputs": [
    {
     "data": {
      "text/html": [
       "<div>\n",
       "<style scoped>\n",
       "    .dataframe tbody tr th:only-of-type {\n",
       "        vertical-align: middle;\n",
       "    }\n",
       "\n",
       "    .dataframe tbody tr th {\n",
       "        vertical-align: top;\n",
       "    }\n",
       "\n",
       "    .dataframe thead th {\n",
       "        text-align: right;\n",
       "    }\n",
       "</style>\n",
       "<table border=\"1\" class=\"dataframe\">\n",
       "  <thead>\n",
       "    <tr style=\"text-align: right;\">\n",
       "      <th></th>\n",
       "      <th>naive-bayes-classifier</th>\n",
       "      <th>redshift</th>\n",
       "      <th>ai</th>\n",
       "      <th>ggplot2</th>\n",
       "    </tr>\n",
       "  </thead>\n",
       "  <tbody>\n",
       "    <tr>\n",
       "      <th>naive-bayes-classifier</th>\n",
       "      <td>NaN</td>\n",
       "      <td>NaN</td>\n",
       "      <td>NaN</td>\n",
       "      <td>NaN</td>\n",
       "    </tr>\n",
       "    <tr>\n",
       "      <th>redshift</th>\n",
       "      <td>NaN</td>\n",
       "      <td>NaN</td>\n",
       "      <td>NaN</td>\n",
       "      <td>NaN</td>\n",
       "    </tr>\n",
       "    <tr>\n",
       "      <th>ai</th>\n",
       "      <td>NaN</td>\n",
       "      <td>NaN</td>\n",
       "      <td>NaN</td>\n",
       "      <td>NaN</td>\n",
       "    </tr>\n",
       "    <tr>\n",
       "      <th>ggplot2</th>\n",
       "      <td>NaN</td>\n",
       "      <td>NaN</td>\n",
       "      <td>NaN</td>\n",
       "      <td>NaN</td>\n",
       "    </tr>\n",
       "  </tbody>\n",
       "</table>\n",
       "</div>"
      ],
      "text/plain": [
       "                       naive-bayes-classifier redshift   ai ggplot2\n",
       "naive-bayes-classifier                    NaN      NaN  NaN     NaN\n",
       "redshift                                  NaN      NaN  NaN     NaN\n",
       "ai                                        NaN      NaN  NaN     NaN\n",
       "ggplot2                                   NaN      NaN  NaN     NaN"
      ]
     },
     "execution_count": 15,
     "metadata": {},
     "output_type": "execute_result"
    }
   ],
   "source": [
    "associations = pd.DataFrame(index=all_tags, columns=all_tags)\n",
    "associations.iloc[0:4,0:4]"
   ]
  },
  {
   "cell_type": "markdown",
   "metadata": {},
   "source": [
    "Nous allons maintenant remplir ce dataframe avec des zéros et ensuite, pour chaque liste de tags dans les questions [\"Tags\"], nous incrémenterons les tags intermédiaires d'une unité. Le résultat final sera une dataframe qui, pour chaque paire de tags, nous indique combien de fois elles ont été utilisées ensemble."
   ]
  },
  {
   "cell_type": "code",
   "execution_count": 16,
   "metadata": {
    "collapsed": true
   },
   "outputs": [],
   "source": [
    "associations.fillna(0, inplace=True)\n",
    "\n",
    "for tags in questions[\"Tags\"]:\n",
    "    associations.loc[tags, tags] += 1"
   ]
  },
  {
   "cell_type": "code",
   "execution_count": 17,
   "metadata": {
    "collapsed": false,
    "scrolled": true
   },
   "outputs": [
    {
     "data": {
      "text/html": [
       "<style  type=\"text/css\" >\n",
       "    #T_b26a252a_05e2_11eb_9c56_0242ac11000erow0_col0 {\n",
       "            color:  blue;\n",
       "        }    #T_b26a252a_05e2_11eb_9c56_0242ac11000erow1_col1 {\n",
       "            color:  blue;\n",
       "        }    #T_b26a252a_05e2_11eb_9c56_0242ac11000erow2_col2 {\n",
       "            color:  blue;\n",
       "        }    #T_b26a252a_05e2_11eb_9c56_0242ac11000erow3_col3 {\n",
       "            color:  blue;\n",
       "        }    #T_b26a252a_05e2_11eb_9c56_0242ac11000erow4_col4 {\n",
       "            color:  blue;\n",
       "        }    #T_b26a252a_05e2_11eb_9c56_0242ac11000erow5_col5 {\n",
       "            color:  blue;\n",
       "        }    #T_b26a252a_05e2_11eb_9c56_0242ac11000erow6_col6 {\n",
       "            color:  blue;\n",
       "        }    #T_b26a252a_05e2_11eb_9c56_0242ac11000erow7_col7 {\n",
       "            color:  blue;\n",
       "        }    #T_b26a252a_05e2_11eb_9c56_0242ac11000erow8_col8 {\n",
       "            color:  blue;\n",
       "        }    #T_b26a252a_05e2_11eb_9c56_0242ac11000erow9_col9 {\n",
       "            color:  blue;\n",
       "        }    #T_b26a252a_05e2_11eb_9c56_0242ac11000erow10_col10 {\n",
       "            color:  blue;\n",
       "        }    #T_b26a252a_05e2_11eb_9c56_0242ac11000erow10_col15 {\n",
       "            background-color:  yellow;\n",
       "        }    #T_b26a252a_05e2_11eb_9c56_0242ac11000erow11_col11 {\n",
       "            color:  blue;\n",
       "        }    #T_b26a252a_05e2_11eb_9c56_0242ac11000erow12_col12 {\n",
       "            color:  blue;\n",
       "        }    #T_b26a252a_05e2_11eb_9c56_0242ac11000erow13_col13 {\n",
       "            color:  blue;\n",
       "        }    #T_b26a252a_05e2_11eb_9c56_0242ac11000erow14_col14 {\n",
       "            color:  blue;\n",
       "        }    #T_b26a252a_05e2_11eb_9c56_0242ac11000erow15_col10 {\n",
       "            background-color:  yellow;\n",
       "        }    #T_b26a252a_05e2_11eb_9c56_0242ac11000erow15_col15 {\n",
       "            color:  blue;\n",
       "        }    #T_b26a252a_05e2_11eb_9c56_0242ac11000erow16_col16 {\n",
       "            color:  blue;\n",
       "        }    #T_b26a252a_05e2_11eb_9c56_0242ac11000erow17_col17 {\n",
       "            color:  blue;\n",
       "        }    #T_b26a252a_05e2_11eb_9c56_0242ac11000erow18_col18 {\n",
       "            color:  blue;\n",
       "        }    #T_b26a252a_05e2_11eb_9c56_0242ac11000erow19_col19 {\n",
       "            color:  blue;\n",
       "        }</style>  \n",
       "<table id=\"T_b26a252a_05e2_11eb_9c56_0242ac11000e\" > \n",
       "<thead>    <tr> \n",
       "        <th class=\"blank level0\" ></th> \n",
       "        <th class=\"col_heading level0 col0\" >machine-learning</th> \n",
       "        <th class=\"col_heading level0 col1\" >python</th> \n",
       "        <th class=\"col_heading level0 col2\" >deep-learning</th> \n",
       "        <th class=\"col_heading level0 col3\" >neural-network</th> \n",
       "        <th class=\"col_heading level0 col4\" >keras</th> \n",
       "        <th class=\"col_heading level0 col5\" >classification</th> \n",
       "        <th class=\"col_heading level0 col6\" >tensorflow</th> \n",
       "        <th class=\"col_heading level0 col7\" >scikit-learn</th> \n",
       "        <th class=\"col_heading level0 col8\" >nlp</th> \n",
       "        <th class=\"col_heading level0 col9\" >cnn</th> \n",
       "        <th class=\"col_heading level0 col10\" >time-series</th> \n",
       "        <th class=\"col_heading level0 col11\" >lstm</th> \n",
       "        <th class=\"col_heading level0 col12\" >pandas</th> \n",
       "        <th class=\"col_heading level0 col13\" >regression</th> \n",
       "        <th class=\"col_heading level0 col14\" >dataset</th> \n",
       "        <th class=\"col_heading level0 col15\" >r</th> \n",
       "        <th class=\"col_heading level0 col16\" >predictive-modeling</th> \n",
       "        <th class=\"col_heading level0 col17\" >clustering</th> \n",
       "        <th class=\"col_heading level0 col18\" >statistics</th> \n",
       "        <th class=\"col_heading level0 col19\" >machine-learning-model</th> \n",
       "    </tr></thead> \n",
       "<tbody>    <tr> \n",
       "        <th id=\"T_b26a252a_05e2_11eb_9c56_0242ac11000elevel0_row0\" class=\"row_heading level0 row0\" >machine-learning</th> \n",
       "        <td id=\"T_b26a252a_05e2_11eb_9c56_0242ac11000erow0_col0\" class=\"data row0 col0\" >2693</td> \n",
       "        <td id=\"T_b26a252a_05e2_11eb_9c56_0242ac11000erow0_col1\" class=\"data row0 col1\" >499</td> \n",
       "        <td id=\"T_b26a252a_05e2_11eb_9c56_0242ac11000erow0_col2\" class=\"data row0 col2\" >429</td> \n",
       "        <td id=\"T_b26a252a_05e2_11eb_9c56_0242ac11000erow0_col3\" class=\"data row0 col3\" >366</td> \n",
       "        <td id=\"T_b26a252a_05e2_11eb_9c56_0242ac11000erow0_col4\" class=\"data row0 col4\" >195</td> \n",
       "        <td id=\"T_b26a252a_05e2_11eb_9c56_0242ac11000erow0_col5\" class=\"data row0 col5\" >259</td> \n",
       "        <td id=\"T_b26a252a_05e2_11eb_9c56_0242ac11000erow0_col6\" class=\"data row0 col6\" >106</td> \n",
       "        <td id=\"T_b26a252a_05e2_11eb_9c56_0242ac11000erow0_col7\" class=\"data row0 col7\" >188</td> \n",
       "        <td id=\"T_b26a252a_05e2_11eb_9c56_0242ac11000erow0_col8\" class=\"data row0 col8\" >113</td> \n",
       "        <td id=\"T_b26a252a_05e2_11eb_9c56_0242ac11000erow0_col9\" class=\"data row0 col9\" >124</td> \n",
       "        <td id=\"T_b26a252a_05e2_11eb_9c56_0242ac11000erow0_col10\" class=\"data row0 col10\" >131</td> \n",
       "        <td id=\"T_b26a252a_05e2_11eb_9c56_0242ac11000erow0_col11\" class=\"data row0 col11\" >71</td> \n",
       "        <td id=\"T_b26a252a_05e2_11eb_9c56_0242ac11000erow0_col12\" class=\"data row0 col12\" >62</td> \n",
       "        <td id=\"T_b26a252a_05e2_11eb_9c56_0242ac11000erow0_col13\" class=\"data row0 col13\" >119</td> \n",
       "        <td id=\"T_b26a252a_05e2_11eb_9c56_0242ac11000erow0_col14\" class=\"data row0 col14\" >99</td> \n",
       "        <td id=\"T_b26a252a_05e2_11eb_9c56_0242ac11000erow0_col15\" class=\"data row0 col15\" >63</td> \n",
       "        <td id=\"T_b26a252a_05e2_11eb_9c56_0242ac11000erow0_col16\" class=\"data row0 col16\" >123</td> \n",
       "        <td id=\"T_b26a252a_05e2_11eb_9c56_0242ac11000erow0_col17\" class=\"data row0 col17\" >61</td> \n",
       "        <td id=\"T_b26a252a_05e2_11eb_9c56_0242ac11000erow0_col18\" class=\"data row0 col18\" >89</td> \n",
       "        <td id=\"T_b26a252a_05e2_11eb_9c56_0242ac11000erow0_col19\" class=\"data row0 col19\" >139</td> \n",
       "    </tr>    <tr> \n",
       "        <th id=\"T_b26a252a_05e2_11eb_9c56_0242ac11000elevel0_row1\" class=\"row_heading level0 row1\" >python</th> \n",
       "        <td id=\"T_b26a252a_05e2_11eb_9c56_0242ac11000erow1_col0\" class=\"data row1 col0\" >499</td> \n",
       "        <td id=\"T_b26a252a_05e2_11eb_9c56_0242ac11000erow1_col1\" class=\"data row1 col1\" >1814</td> \n",
       "        <td id=\"T_b26a252a_05e2_11eb_9c56_0242ac11000erow1_col2\" class=\"data row1 col2\" >160</td> \n",
       "        <td id=\"T_b26a252a_05e2_11eb_9c56_0242ac11000erow1_col3\" class=\"data row1 col3\" >137</td> \n",
       "        <td id=\"T_b26a252a_05e2_11eb_9c56_0242ac11000erow1_col4\" class=\"data row1 col4\" >280</td> \n",
       "        <td id=\"T_b26a252a_05e2_11eb_9c56_0242ac11000erow1_col5\" class=\"data row1 col5\" >98</td> \n",
       "        <td id=\"T_b26a252a_05e2_11eb_9c56_0242ac11000erow1_col6\" class=\"data row1 col6\" >167</td> \n",
       "        <td id=\"T_b26a252a_05e2_11eb_9c56_0242ac11000erow1_col7\" class=\"data row1 col7\" >235</td> \n",
       "        <td id=\"T_b26a252a_05e2_11eb_9c56_0242ac11000erow1_col8\" class=\"data row1 col8\" >71</td> \n",
       "        <td id=\"T_b26a252a_05e2_11eb_9c56_0242ac11000erow1_col9\" class=\"data row1 col9\" >62</td> \n",
       "        <td id=\"T_b26a252a_05e2_11eb_9c56_0242ac11000erow1_col10\" class=\"data row1 col10\" >105</td> \n",
       "        <td id=\"T_b26a252a_05e2_11eb_9c56_0242ac11000erow1_col11\" class=\"data row1 col11\" >61</td> \n",
       "        <td id=\"T_b26a252a_05e2_11eb_9c56_0242ac11000erow1_col12\" class=\"data row1 col12\" >244</td> \n",
       "        <td id=\"T_b26a252a_05e2_11eb_9c56_0242ac11000erow1_col13\" class=\"data row1 col13\" >59</td> \n",
       "        <td id=\"T_b26a252a_05e2_11eb_9c56_0242ac11000erow1_col14\" class=\"data row1 col14\" >53</td> \n",
       "        <td id=\"T_b26a252a_05e2_11eb_9c56_0242ac11000erow1_col15\" class=\"data row1 col15\" >24</td> \n",
       "        <td id=\"T_b26a252a_05e2_11eb_9c56_0242ac11000erow1_col16\" class=\"data row1 col16\" >35</td> \n",
       "        <td id=\"T_b26a252a_05e2_11eb_9c56_0242ac11000erow1_col17\" class=\"data row1 col17\" >45</td> \n",
       "        <td id=\"T_b26a252a_05e2_11eb_9c56_0242ac11000erow1_col18\" class=\"data row1 col18\" >35</td> \n",
       "        <td id=\"T_b26a252a_05e2_11eb_9c56_0242ac11000erow1_col19\" class=\"data row1 col19\" >37</td> \n",
       "    </tr>    <tr> \n",
       "        <th id=\"T_b26a252a_05e2_11eb_9c56_0242ac11000elevel0_row2\" class=\"row_heading level0 row2\" >deep-learning</th> \n",
       "        <td id=\"T_b26a252a_05e2_11eb_9c56_0242ac11000erow2_col0\" class=\"data row2 col0\" >429</td> \n",
       "        <td id=\"T_b26a252a_05e2_11eb_9c56_0242ac11000erow2_col1\" class=\"data row2 col1\" >160</td> \n",
       "        <td id=\"T_b26a252a_05e2_11eb_9c56_0242ac11000erow2_col2\" class=\"data row2 col2\" >1220</td> \n",
       "        <td id=\"T_b26a252a_05e2_11eb_9c56_0242ac11000erow2_col3\" class=\"data row2 col3\" >305</td> \n",
       "        <td id=\"T_b26a252a_05e2_11eb_9c56_0242ac11000erow2_col4\" class=\"data row2 col4\" >247</td> \n",
       "        <td id=\"T_b26a252a_05e2_11eb_9c56_0242ac11000erow2_col5\" class=\"data row2 col5\" >59</td> \n",
       "        <td id=\"T_b26a252a_05e2_11eb_9c56_0242ac11000erow2_col6\" class=\"data row2 col6\" >136</td> \n",
       "        <td id=\"T_b26a252a_05e2_11eb_9c56_0242ac11000erow2_col7\" class=\"data row2 col7\" >16</td> \n",
       "        <td id=\"T_b26a252a_05e2_11eb_9c56_0242ac11000erow2_col8\" class=\"data row2 col8\" >72</td> \n",
       "        <td id=\"T_b26a252a_05e2_11eb_9c56_0242ac11000erow2_col9\" class=\"data row2 col9\" >160</td> \n",
       "        <td id=\"T_b26a252a_05e2_11eb_9c56_0242ac11000erow2_col10\" class=\"data row2 col10\" >44</td> \n",
       "        <td id=\"T_b26a252a_05e2_11eb_9c56_0242ac11000erow2_col11\" class=\"data row2 col11\" >103</td> \n",
       "        <td id=\"T_b26a252a_05e2_11eb_9c56_0242ac11000erow2_col12\" class=\"data row2 col12\" >1</td> \n",
       "        <td id=\"T_b26a252a_05e2_11eb_9c56_0242ac11000erow2_col13\" class=\"data row2 col13\" >21</td> \n",
       "        <td id=\"T_b26a252a_05e2_11eb_9c56_0242ac11000erow2_col14\" class=\"data row2 col14\" >32</td> \n",
       "        <td id=\"T_b26a252a_05e2_11eb_9c56_0242ac11000erow2_col15\" class=\"data row2 col15\" >5</td> \n",
       "        <td id=\"T_b26a252a_05e2_11eb_9c56_0242ac11000erow2_col16\" class=\"data row2 col16\" >32</td> \n",
       "        <td id=\"T_b26a252a_05e2_11eb_9c56_0242ac11000erow2_col17\" class=\"data row2 col17\" >2</td> \n",
       "        <td id=\"T_b26a252a_05e2_11eb_9c56_0242ac11000erow2_col18\" class=\"data row2 col18\" >12</td> \n",
       "        <td id=\"T_b26a252a_05e2_11eb_9c56_0242ac11000erow2_col19\" class=\"data row2 col19\" >19</td> \n",
       "    </tr>    <tr> \n",
       "        <th id=\"T_b26a252a_05e2_11eb_9c56_0242ac11000elevel0_row3\" class=\"row_heading level0 row3\" >neural-network</th> \n",
       "        <td id=\"T_b26a252a_05e2_11eb_9c56_0242ac11000erow3_col0\" class=\"data row3 col0\" >366</td> \n",
       "        <td id=\"T_b26a252a_05e2_11eb_9c56_0242ac11000erow3_col1\" class=\"data row3 col1\" >137</td> \n",
       "        <td id=\"T_b26a252a_05e2_11eb_9c56_0242ac11000erow3_col2\" class=\"data row3 col2\" >305</td> \n",
       "        <td id=\"T_b26a252a_05e2_11eb_9c56_0242ac11000erow3_col3\" class=\"data row3 col3\" >1055</td> \n",
       "        <td id=\"T_b26a252a_05e2_11eb_9c56_0242ac11000erow3_col4\" class=\"data row3 col4\" >235</td> \n",
       "        <td id=\"T_b26a252a_05e2_11eb_9c56_0242ac11000erow3_col5\" class=\"data row3 col5\" >65</td> \n",
       "        <td id=\"T_b26a252a_05e2_11eb_9c56_0242ac11000erow3_col6\" class=\"data row3 col6\" >108</td> \n",
       "        <td id=\"T_b26a252a_05e2_11eb_9c56_0242ac11000erow3_col7\" class=\"data row3 col7\" >24</td> \n",
       "        <td id=\"T_b26a252a_05e2_11eb_9c56_0242ac11000erow3_col8\" class=\"data row3 col8\" >24</td> \n",
       "        <td id=\"T_b26a252a_05e2_11eb_9c56_0242ac11000erow3_col9\" class=\"data row3 col9\" >118</td> \n",
       "        <td id=\"T_b26a252a_05e2_11eb_9c56_0242ac11000erow3_col10\" class=\"data row3 col10\" >33</td> \n",
       "        <td id=\"T_b26a252a_05e2_11eb_9c56_0242ac11000erow3_col11\" class=\"data row3 col11\" >69</td> \n",
       "        <td id=\"T_b26a252a_05e2_11eb_9c56_0242ac11000erow3_col12\" class=\"data row3 col12\" >1</td> \n",
       "        <td id=\"T_b26a252a_05e2_11eb_9c56_0242ac11000erow3_col13\" class=\"data row3 col13\" >42</td> \n",
       "        <td id=\"T_b26a252a_05e2_11eb_9c56_0242ac11000erow3_col14\" class=\"data row3 col14\" >20</td> \n",
       "        <td id=\"T_b26a252a_05e2_11eb_9c56_0242ac11000erow3_col15\" class=\"data row3 col15\" >9</td> \n",
       "        <td id=\"T_b26a252a_05e2_11eb_9c56_0242ac11000erow3_col16\" class=\"data row3 col16\" >13</td> \n",
       "        <td id=\"T_b26a252a_05e2_11eb_9c56_0242ac11000erow3_col17\" class=\"data row3 col17\" >8</td> \n",
       "        <td id=\"T_b26a252a_05e2_11eb_9c56_0242ac11000erow3_col18\" class=\"data row3 col18\" >11</td> \n",
       "        <td id=\"T_b26a252a_05e2_11eb_9c56_0242ac11000erow3_col19\" class=\"data row3 col19\" >10</td> \n",
       "    </tr>    <tr> \n",
       "        <th id=\"T_b26a252a_05e2_11eb_9c56_0242ac11000elevel0_row4\" class=\"row_heading level0 row4\" >keras</th> \n",
       "        <td id=\"T_b26a252a_05e2_11eb_9c56_0242ac11000erow4_col0\" class=\"data row4 col0\" >195</td> \n",
       "        <td id=\"T_b26a252a_05e2_11eb_9c56_0242ac11000erow4_col1\" class=\"data row4 col1\" >280</td> \n",
       "        <td id=\"T_b26a252a_05e2_11eb_9c56_0242ac11000erow4_col2\" class=\"data row4 col2\" >247</td> \n",
       "        <td id=\"T_b26a252a_05e2_11eb_9c56_0242ac11000erow4_col3\" class=\"data row4 col3\" >235</td> \n",
       "        <td id=\"T_b26a252a_05e2_11eb_9c56_0242ac11000erow4_col4\" class=\"data row4 col4\" >935</td> \n",
       "        <td id=\"T_b26a252a_05e2_11eb_9c56_0242ac11000erow4_col5\" class=\"data row4 col5\" >58</td> \n",
       "        <td id=\"T_b26a252a_05e2_11eb_9c56_0242ac11000erow4_col6\" class=\"data row4 col6\" >256</td> \n",
       "        <td id=\"T_b26a252a_05e2_11eb_9c56_0242ac11000erow4_col7\" class=\"data row4 col7\" >34</td> \n",
       "        <td id=\"T_b26a252a_05e2_11eb_9c56_0242ac11000erow4_col8\" class=\"data row4 col8\" >23</td> \n",
       "        <td id=\"T_b26a252a_05e2_11eb_9c56_0242ac11000erow4_col9\" class=\"data row4 col9\" >116</td> \n",
       "        <td id=\"T_b26a252a_05e2_11eb_9c56_0242ac11000erow4_col10\" class=\"data row4 col10\" >51</td> \n",
       "        <td id=\"T_b26a252a_05e2_11eb_9c56_0242ac11000erow4_col11\" class=\"data row4 col11\" >133</td> \n",
       "        <td id=\"T_b26a252a_05e2_11eb_9c56_0242ac11000erow4_col12\" class=\"data row4 col12\" >3</td> \n",
       "        <td id=\"T_b26a252a_05e2_11eb_9c56_0242ac11000erow4_col13\" class=\"data row4 col13\" >31</td> \n",
       "        <td id=\"T_b26a252a_05e2_11eb_9c56_0242ac11000erow4_col14\" class=\"data row4 col14\" >13</td> \n",
       "        <td id=\"T_b26a252a_05e2_11eb_9c56_0242ac11000erow4_col15\" class=\"data row4 col15\" >10</td> \n",
       "        <td id=\"T_b26a252a_05e2_11eb_9c56_0242ac11000erow4_col16\" class=\"data row4 col16\" >11</td> \n",
       "        <td id=\"T_b26a252a_05e2_11eb_9c56_0242ac11000erow4_col17\" class=\"data row4 col17\" >0</td> \n",
       "        <td id=\"T_b26a252a_05e2_11eb_9c56_0242ac11000erow4_col18\" class=\"data row4 col18\" >3</td> \n",
       "        <td id=\"T_b26a252a_05e2_11eb_9c56_0242ac11000erow4_col19\" class=\"data row4 col19\" >17</td> \n",
       "    </tr>    <tr> \n",
       "        <th id=\"T_b26a252a_05e2_11eb_9c56_0242ac11000elevel0_row5\" class=\"row_heading level0 row5\" >classification</th> \n",
       "        <td id=\"T_b26a252a_05e2_11eb_9c56_0242ac11000erow5_col0\" class=\"data row5 col0\" >259</td> \n",
       "        <td id=\"T_b26a252a_05e2_11eb_9c56_0242ac11000erow5_col1\" class=\"data row5 col1\" >98</td> \n",
       "        <td id=\"T_b26a252a_05e2_11eb_9c56_0242ac11000erow5_col2\" class=\"data row5 col2\" >59</td> \n",
       "        <td id=\"T_b26a252a_05e2_11eb_9c56_0242ac11000erow5_col3\" class=\"data row5 col3\" >65</td> \n",
       "        <td id=\"T_b26a252a_05e2_11eb_9c56_0242ac11000erow5_col4\" class=\"data row5 col4\" >58</td> \n",
       "        <td id=\"T_b26a252a_05e2_11eb_9c56_0242ac11000erow5_col5\" class=\"data row5 col5\" >685</td> \n",
       "        <td id=\"T_b26a252a_05e2_11eb_9c56_0242ac11000erow5_col6\" class=\"data row5 col6\" >20</td> \n",
       "        <td id=\"T_b26a252a_05e2_11eb_9c56_0242ac11000erow5_col7\" class=\"data row5 col7\" >47</td> \n",
       "        <td id=\"T_b26a252a_05e2_11eb_9c56_0242ac11000erow5_col8\" class=\"data row5 col8\" >35</td> \n",
       "        <td id=\"T_b26a252a_05e2_11eb_9c56_0242ac11000erow5_col9\" class=\"data row5 col9\" >20</td> \n",
       "        <td id=\"T_b26a252a_05e2_11eb_9c56_0242ac11000erow5_col10\" class=\"data row5 col10\" >25</td> \n",
       "        <td id=\"T_b26a252a_05e2_11eb_9c56_0242ac11000erow5_col11\" class=\"data row5 col11\" >20</td> \n",
       "        <td id=\"T_b26a252a_05e2_11eb_9c56_0242ac11000erow5_col12\" class=\"data row5 col12\" >3</td> \n",
       "        <td id=\"T_b26a252a_05e2_11eb_9c56_0242ac11000erow5_col13\" class=\"data row5 col13\" >34</td> \n",
       "        <td id=\"T_b26a252a_05e2_11eb_9c56_0242ac11000erow5_col14\" class=\"data row5 col14\" >28</td> \n",
       "        <td id=\"T_b26a252a_05e2_11eb_9c56_0242ac11000erow5_col15\" class=\"data row5 col15\" >10</td> \n",
       "        <td id=\"T_b26a252a_05e2_11eb_9c56_0242ac11000erow5_col16\" class=\"data row5 col16\" >27</td> \n",
       "        <td id=\"T_b26a252a_05e2_11eb_9c56_0242ac11000erow5_col17\" class=\"data row5 col17\" >12</td> \n",
       "        <td id=\"T_b26a252a_05e2_11eb_9c56_0242ac11000erow5_col18\" class=\"data row5 col18\" >19</td> \n",
       "        <td id=\"T_b26a252a_05e2_11eb_9c56_0242ac11000erow5_col19\" class=\"data row5 col19\" >21</td> \n",
       "    </tr>    <tr> \n",
       "        <th id=\"T_b26a252a_05e2_11eb_9c56_0242ac11000elevel0_row6\" class=\"row_heading level0 row6\" >tensorflow</th> \n",
       "        <td id=\"T_b26a252a_05e2_11eb_9c56_0242ac11000erow6_col0\" class=\"data row6 col0\" >106</td> \n",
       "        <td id=\"T_b26a252a_05e2_11eb_9c56_0242ac11000erow6_col1\" class=\"data row6 col1\" >167</td> \n",
       "        <td id=\"T_b26a252a_05e2_11eb_9c56_0242ac11000erow6_col2\" class=\"data row6 col2\" >136</td> \n",
       "        <td id=\"T_b26a252a_05e2_11eb_9c56_0242ac11000erow6_col3\" class=\"data row6 col3\" >108</td> \n",
       "        <td id=\"T_b26a252a_05e2_11eb_9c56_0242ac11000erow6_col4\" class=\"data row6 col4\" >256</td> \n",
       "        <td id=\"T_b26a252a_05e2_11eb_9c56_0242ac11000erow6_col5\" class=\"data row6 col5\" >20</td> \n",
       "        <td id=\"T_b26a252a_05e2_11eb_9c56_0242ac11000erow6_col6\" class=\"data row6 col6\" >584</td> \n",
       "        <td id=\"T_b26a252a_05e2_11eb_9c56_0242ac11000erow6_col7\" class=\"data row6 col7\" >15</td> \n",
       "        <td id=\"T_b26a252a_05e2_11eb_9c56_0242ac11000erow6_col8\" class=\"data row6 col8\" >11</td> \n",
       "        <td id=\"T_b26a252a_05e2_11eb_9c56_0242ac11000erow6_col9\" class=\"data row6 col9\" >57</td> \n",
       "        <td id=\"T_b26a252a_05e2_11eb_9c56_0242ac11000erow6_col10\" class=\"data row6 col10\" >9</td> \n",
       "        <td id=\"T_b26a252a_05e2_11eb_9c56_0242ac11000erow6_col11\" class=\"data row6 col11\" >43</td> \n",
       "        <td id=\"T_b26a252a_05e2_11eb_9c56_0242ac11000erow6_col12\" class=\"data row6 col12\" >3</td> \n",
       "        <td id=\"T_b26a252a_05e2_11eb_9c56_0242ac11000erow6_col13\" class=\"data row6 col13\" >9</td> \n",
       "        <td id=\"T_b26a252a_05e2_11eb_9c56_0242ac11000erow6_col14\" class=\"data row6 col14\" >9</td> \n",
       "        <td id=\"T_b26a252a_05e2_11eb_9c56_0242ac11000erow6_col15\" class=\"data row6 col15\" >1</td> \n",
       "        <td id=\"T_b26a252a_05e2_11eb_9c56_0242ac11000erow6_col16\" class=\"data row6 col16\" >6</td> \n",
       "        <td id=\"T_b26a252a_05e2_11eb_9c56_0242ac11000erow6_col17\" class=\"data row6 col17\" >0</td> \n",
       "        <td id=\"T_b26a252a_05e2_11eb_9c56_0242ac11000erow6_col18\" class=\"data row6 col18\" >0</td> \n",
       "        <td id=\"T_b26a252a_05e2_11eb_9c56_0242ac11000erow6_col19\" class=\"data row6 col19\" >9</td> \n",
       "    </tr>    <tr> \n",
       "        <th id=\"T_b26a252a_05e2_11eb_9c56_0242ac11000elevel0_row7\" class=\"row_heading level0 row7\" >scikit-learn</th> \n",
       "        <td id=\"T_b26a252a_05e2_11eb_9c56_0242ac11000erow7_col0\" class=\"data row7 col0\" >188</td> \n",
       "        <td id=\"T_b26a252a_05e2_11eb_9c56_0242ac11000erow7_col1\" class=\"data row7 col1\" >235</td> \n",
       "        <td id=\"T_b26a252a_05e2_11eb_9c56_0242ac11000erow7_col2\" class=\"data row7 col2\" >16</td> \n",
       "        <td id=\"T_b26a252a_05e2_11eb_9c56_0242ac11000erow7_col3\" class=\"data row7 col3\" >24</td> \n",
       "        <td id=\"T_b26a252a_05e2_11eb_9c56_0242ac11000erow7_col4\" class=\"data row7 col4\" >34</td> \n",
       "        <td id=\"T_b26a252a_05e2_11eb_9c56_0242ac11000erow7_col5\" class=\"data row7 col5\" >47</td> \n",
       "        <td id=\"T_b26a252a_05e2_11eb_9c56_0242ac11000erow7_col6\" class=\"data row7 col6\" >15</td> \n",
       "        <td id=\"T_b26a252a_05e2_11eb_9c56_0242ac11000erow7_col7\" class=\"data row7 col7\" >540</td> \n",
       "        <td id=\"T_b26a252a_05e2_11eb_9c56_0242ac11000erow7_col8\" class=\"data row7 col8\" >12</td> \n",
       "        <td id=\"T_b26a252a_05e2_11eb_9c56_0242ac11000erow7_col9\" class=\"data row7 col9\" >0</td> \n",
       "        <td id=\"T_b26a252a_05e2_11eb_9c56_0242ac11000erow7_col10\" class=\"data row7 col10\" >12</td> \n",
       "        <td id=\"T_b26a252a_05e2_11eb_9c56_0242ac11000erow7_col11\" class=\"data row7 col11\" >2</td> \n",
       "        <td id=\"T_b26a252a_05e2_11eb_9c56_0242ac11000erow7_col12\" class=\"data row7 col12\" >37</td> \n",
       "        <td id=\"T_b26a252a_05e2_11eb_9c56_0242ac11000erow7_col13\" class=\"data row7 col13\" >37</td> \n",
       "        <td id=\"T_b26a252a_05e2_11eb_9c56_0242ac11000erow7_col14\" class=\"data row7 col14\" >9</td> \n",
       "        <td id=\"T_b26a252a_05e2_11eb_9c56_0242ac11000erow7_col15\" class=\"data row7 col15\" >1</td> \n",
       "        <td id=\"T_b26a252a_05e2_11eb_9c56_0242ac11000erow7_col16\" class=\"data row7 col16\" >12</td> \n",
       "        <td id=\"T_b26a252a_05e2_11eb_9c56_0242ac11000erow7_col17\" class=\"data row7 col17\" >24</td> \n",
       "        <td id=\"T_b26a252a_05e2_11eb_9c56_0242ac11000erow7_col18\" class=\"data row7 col18\" >6</td> \n",
       "        <td id=\"T_b26a252a_05e2_11eb_9c56_0242ac11000erow7_col19\" class=\"data row7 col19\" >18</td> \n",
       "    </tr>    <tr> \n",
       "        <th id=\"T_b26a252a_05e2_11eb_9c56_0242ac11000elevel0_row8\" class=\"row_heading level0 row8\" >nlp</th> \n",
       "        <td id=\"T_b26a252a_05e2_11eb_9c56_0242ac11000erow8_col0\" class=\"data row8 col0\" >113</td> \n",
       "        <td id=\"T_b26a252a_05e2_11eb_9c56_0242ac11000erow8_col1\" class=\"data row8 col1\" >71</td> \n",
       "        <td id=\"T_b26a252a_05e2_11eb_9c56_0242ac11000erow8_col2\" class=\"data row8 col2\" >72</td> \n",
       "        <td id=\"T_b26a252a_05e2_11eb_9c56_0242ac11000erow8_col3\" class=\"data row8 col3\" >24</td> \n",
       "        <td id=\"T_b26a252a_05e2_11eb_9c56_0242ac11000erow8_col4\" class=\"data row8 col4\" >23</td> \n",
       "        <td id=\"T_b26a252a_05e2_11eb_9c56_0242ac11000erow8_col5\" class=\"data row8 col5\" >35</td> \n",
       "        <td id=\"T_b26a252a_05e2_11eb_9c56_0242ac11000erow8_col6\" class=\"data row8 col6\" >11</td> \n",
       "        <td id=\"T_b26a252a_05e2_11eb_9c56_0242ac11000erow8_col7\" class=\"data row8 col7\" >12</td> \n",
       "        <td id=\"T_b26a252a_05e2_11eb_9c56_0242ac11000erow8_col8\" class=\"data row8 col8\" >493</td> \n",
       "        <td id=\"T_b26a252a_05e2_11eb_9c56_0242ac11000erow8_col9\" class=\"data row8 col9\" >7</td> \n",
       "        <td id=\"T_b26a252a_05e2_11eb_9c56_0242ac11000erow8_col10\" class=\"data row8 col10\" >0</td> \n",
       "        <td id=\"T_b26a252a_05e2_11eb_9c56_0242ac11000erow8_col11\" class=\"data row8 col11\" >19</td> \n",
       "        <td id=\"T_b26a252a_05e2_11eb_9c56_0242ac11000erow8_col12\" class=\"data row8 col12\" >3</td> \n",
       "        <td id=\"T_b26a252a_05e2_11eb_9c56_0242ac11000erow8_col13\" class=\"data row8 col13\" >2</td> \n",
       "        <td id=\"T_b26a252a_05e2_11eb_9c56_0242ac11000erow8_col14\" class=\"data row8 col14\" >11</td> \n",
       "        <td id=\"T_b26a252a_05e2_11eb_9c56_0242ac11000erow8_col15\" class=\"data row8 col15\" >4</td> \n",
       "        <td id=\"T_b26a252a_05e2_11eb_9c56_0242ac11000erow8_col16\" class=\"data row8 col16\" >1</td> \n",
       "        <td id=\"T_b26a252a_05e2_11eb_9c56_0242ac11000erow8_col17\" class=\"data row8 col17\" >9</td> \n",
       "        <td id=\"T_b26a252a_05e2_11eb_9c56_0242ac11000erow8_col18\" class=\"data row8 col18\" >3</td> \n",
       "        <td id=\"T_b26a252a_05e2_11eb_9c56_0242ac11000erow8_col19\" class=\"data row8 col19\" >4</td> \n",
       "    </tr>    <tr> \n",
       "        <th id=\"T_b26a252a_05e2_11eb_9c56_0242ac11000elevel0_row9\" class=\"row_heading level0 row9\" >cnn</th> \n",
       "        <td id=\"T_b26a252a_05e2_11eb_9c56_0242ac11000erow9_col0\" class=\"data row9 col0\" >124</td> \n",
       "        <td id=\"T_b26a252a_05e2_11eb_9c56_0242ac11000erow9_col1\" class=\"data row9 col1\" >62</td> \n",
       "        <td id=\"T_b26a252a_05e2_11eb_9c56_0242ac11000erow9_col2\" class=\"data row9 col2\" >160</td> \n",
       "        <td id=\"T_b26a252a_05e2_11eb_9c56_0242ac11000erow9_col3\" class=\"data row9 col3\" >118</td> \n",
       "        <td id=\"T_b26a252a_05e2_11eb_9c56_0242ac11000erow9_col4\" class=\"data row9 col4\" >116</td> \n",
       "        <td id=\"T_b26a252a_05e2_11eb_9c56_0242ac11000erow9_col5\" class=\"data row9 col5\" >20</td> \n",
       "        <td id=\"T_b26a252a_05e2_11eb_9c56_0242ac11000erow9_col6\" class=\"data row9 col6\" >57</td> \n",
       "        <td id=\"T_b26a252a_05e2_11eb_9c56_0242ac11000erow9_col7\" class=\"data row9 col7\" >0</td> \n",
       "        <td id=\"T_b26a252a_05e2_11eb_9c56_0242ac11000erow9_col8\" class=\"data row9 col8\" >7</td> \n",
       "        <td id=\"T_b26a252a_05e2_11eb_9c56_0242ac11000erow9_col9\" class=\"data row9 col9\" >489</td> \n",
       "        <td id=\"T_b26a252a_05e2_11eb_9c56_0242ac11000erow9_col10\" class=\"data row9 col10\" >8</td> \n",
       "        <td id=\"T_b26a252a_05e2_11eb_9c56_0242ac11000erow9_col11\" class=\"data row9 col11\" >24</td> \n",
       "        <td id=\"T_b26a252a_05e2_11eb_9c56_0242ac11000erow9_col12\" class=\"data row9 col12\" >1</td> \n",
       "        <td id=\"T_b26a252a_05e2_11eb_9c56_0242ac11000erow9_col13\" class=\"data row9 col13\" >6</td> \n",
       "        <td id=\"T_b26a252a_05e2_11eb_9c56_0242ac11000erow9_col14\" class=\"data row9 col14\" >11</td> \n",
       "        <td id=\"T_b26a252a_05e2_11eb_9c56_0242ac11000erow9_col15\" class=\"data row9 col15\" >2</td> \n",
       "        <td id=\"T_b26a252a_05e2_11eb_9c56_0242ac11000erow9_col16\" class=\"data row9 col16\" >6</td> \n",
       "        <td id=\"T_b26a252a_05e2_11eb_9c56_0242ac11000erow9_col17\" class=\"data row9 col17\" >0</td> \n",
       "        <td id=\"T_b26a252a_05e2_11eb_9c56_0242ac11000erow9_col18\" class=\"data row9 col18\" >1</td> \n",
       "        <td id=\"T_b26a252a_05e2_11eb_9c56_0242ac11000erow9_col19\" class=\"data row9 col19\" >4</td> \n",
       "    </tr>    <tr> \n",
       "        <th id=\"T_b26a252a_05e2_11eb_9c56_0242ac11000elevel0_row10\" class=\"row_heading level0 row10\" >time-series</th> \n",
       "        <td id=\"T_b26a252a_05e2_11eb_9c56_0242ac11000erow10_col0\" class=\"data row10 col0\" >131</td> \n",
       "        <td id=\"T_b26a252a_05e2_11eb_9c56_0242ac11000erow10_col1\" class=\"data row10 col1\" >105</td> \n",
       "        <td id=\"T_b26a252a_05e2_11eb_9c56_0242ac11000erow10_col2\" class=\"data row10 col2\" >44</td> \n",
       "        <td id=\"T_b26a252a_05e2_11eb_9c56_0242ac11000erow10_col3\" class=\"data row10 col3\" >33</td> \n",
       "        <td id=\"T_b26a252a_05e2_11eb_9c56_0242ac11000erow10_col4\" class=\"data row10 col4\" >51</td> \n",
       "        <td id=\"T_b26a252a_05e2_11eb_9c56_0242ac11000erow10_col5\" class=\"data row10 col5\" >25</td> \n",
       "        <td id=\"T_b26a252a_05e2_11eb_9c56_0242ac11000erow10_col6\" class=\"data row10 col6\" >9</td> \n",
       "        <td id=\"T_b26a252a_05e2_11eb_9c56_0242ac11000erow10_col7\" class=\"data row10 col7\" >12</td> \n",
       "        <td id=\"T_b26a252a_05e2_11eb_9c56_0242ac11000erow10_col8\" class=\"data row10 col8\" >0</td> \n",
       "        <td id=\"T_b26a252a_05e2_11eb_9c56_0242ac11000erow10_col9\" class=\"data row10 col9\" >8</td> \n",
       "        <td id=\"T_b26a252a_05e2_11eb_9c56_0242ac11000erow10_col10\" class=\"data row10 col10\" >466</td> \n",
       "        <td id=\"T_b26a252a_05e2_11eb_9c56_0242ac11000erow10_col11\" class=\"data row10 col11\" >87</td> \n",
       "        <td id=\"T_b26a252a_05e2_11eb_9c56_0242ac11000erow10_col12\" class=\"data row10 col12\" >19</td> \n",
       "        <td id=\"T_b26a252a_05e2_11eb_9c56_0242ac11000erow10_col13\" class=\"data row10 col13\" >24</td> \n",
       "        <td id=\"T_b26a252a_05e2_11eb_9c56_0242ac11000erow10_col14\" class=\"data row10 col14\" >6</td> \n",
       "        <td id=\"T_b26a252a_05e2_11eb_9c56_0242ac11000erow10_col15\" class=\"data row10 col15\" >22</td> \n",
       "        <td id=\"T_b26a252a_05e2_11eb_9c56_0242ac11000erow10_col16\" class=\"data row10 col16\" >31</td> \n",
       "        <td id=\"T_b26a252a_05e2_11eb_9c56_0242ac11000erow10_col17\" class=\"data row10 col17\" >20</td> \n",
       "        <td id=\"T_b26a252a_05e2_11eb_9c56_0242ac11000erow10_col18\" class=\"data row10 col18\" >22</td> \n",
       "        <td id=\"T_b26a252a_05e2_11eb_9c56_0242ac11000erow10_col19\" class=\"data row10 col19\" >7</td> \n",
       "    </tr>    <tr> \n",
       "        <th id=\"T_b26a252a_05e2_11eb_9c56_0242ac11000elevel0_row11\" class=\"row_heading level0 row11\" >lstm</th> \n",
       "        <td id=\"T_b26a252a_05e2_11eb_9c56_0242ac11000erow11_col0\" class=\"data row11 col0\" >71</td> \n",
       "        <td id=\"T_b26a252a_05e2_11eb_9c56_0242ac11000erow11_col1\" class=\"data row11 col1\" >61</td> \n",
       "        <td id=\"T_b26a252a_05e2_11eb_9c56_0242ac11000erow11_col2\" class=\"data row11 col2\" >103</td> \n",
       "        <td id=\"T_b26a252a_05e2_11eb_9c56_0242ac11000erow11_col3\" class=\"data row11 col3\" >69</td> \n",
       "        <td id=\"T_b26a252a_05e2_11eb_9c56_0242ac11000erow11_col4\" class=\"data row11 col4\" >133</td> \n",
       "        <td id=\"T_b26a252a_05e2_11eb_9c56_0242ac11000erow11_col5\" class=\"data row11 col5\" >20</td> \n",
       "        <td id=\"T_b26a252a_05e2_11eb_9c56_0242ac11000erow11_col6\" class=\"data row11 col6\" >43</td> \n",
       "        <td id=\"T_b26a252a_05e2_11eb_9c56_0242ac11000erow11_col7\" class=\"data row11 col7\" >2</td> \n",
       "        <td id=\"T_b26a252a_05e2_11eb_9c56_0242ac11000erow11_col8\" class=\"data row11 col8\" >19</td> \n",
       "        <td id=\"T_b26a252a_05e2_11eb_9c56_0242ac11000erow11_col9\" class=\"data row11 col9\" >24</td> \n",
       "        <td id=\"T_b26a252a_05e2_11eb_9c56_0242ac11000erow11_col10\" class=\"data row11 col10\" >87</td> \n",
       "        <td id=\"T_b26a252a_05e2_11eb_9c56_0242ac11000erow11_col11\" class=\"data row11 col11\" >402</td> \n",
       "        <td id=\"T_b26a252a_05e2_11eb_9c56_0242ac11000erow11_col12\" class=\"data row11 col12\" >7</td> \n",
       "        <td id=\"T_b26a252a_05e2_11eb_9c56_0242ac11000erow11_col13\" class=\"data row11 col13\" >11</td> \n",
       "        <td id=\"T_b26a252a_05e2_11eb_9c56_0242ac11000erow11_col14\" class=\"data row11 col14\" >7</td> \n",
       "        <td id=\"T_b26a252a_05e2_11eb_9c56_0242ac11000erow11_col15\" class=\"data row11 col15\" >3</td> \n",
       "        <td id=\"T_b26a252a_05e2_11eb_9c56_0242ac11000erow11_col16\" class=\"data row11 col16\" >13</td> \n",
       "        <td id=\"T_b26a252a_05e2_11eb_9c56_0242ac11000erow11_col17\" class=\"data row11 col17\" >3</td> \n",
       "        <td id=\"T_b26a252a_05e2_11eb_9c56_0242ac11000erow11_col18\" class=\"data row11 col18\" >1</td> \n",
       "        <td id=\"T_b26a252a_05e2_11eb_9c56_0242ac11000erow11_col19\" class=\"data row11 col19\" >5</td> \n",
       "    </tr>    <tr> \n",
       "        <th id=\"T_b26a252a_05e2_11eb_9c56_0242ac11000elevel0_row12\" class=\"row_heading level0 row12\" >pandas</th> \n",
       "        <td id=\"T_b26a252a_05e2_11eb_9c56_0242ac11000erow12_col0\" class=\"data row12 col0\" >62</td> \n",
       "        <td id=\"T_b26a252a_05e2_11eb_9c56_0242ac11000erow12_col1\" class=\"data row12 col1\" >244</td> \n",
       "        <td id=\"T_b26a252a_05e2_11eb_9c56_0242ac11000erow12_col2\" class=\"data row12 col2\" >1</td> \n",
       "        <td id=\"T_b26a252a_05e2_11eb_9c56_0242ac11000erow12_col3\" class=\"data row12 col3\" >1</td> \n",
       "        <td id=\"T_b26a252a_05e2_11eb_9c56_0242ac11000erow12_col4\" class=\"data row12 col4\" >3</td> \n",
       "        <td id=\"T_b26a252a_05e2_11eb_9c56_0242ac11000erow12_col5\" class=\"data row12 col5\" >3</td> \n",
       "        <td id=\"T_b26a252a_05e2_11eb_9c56_0242ac11000erow12_col6\" class=\"data row12 col6\" >3</td> \n",
       "        <td id=\"T_b26a252a_05e2_11eb_9c56_0242ac11000erow12_col7\" class=\"data row12 col7\" >37</td> \n",
       "        <td id=\"T_b26a252a_05e2_11eb_9c56_0242ac11000erow12_col8\" class=\"data row12 col8\" >3</td> \n",
       "        <td id=\"T_b26a252a_05e2_11eb_9c56_0242ac11000erow12_col9\" class=\"data row12 col9\" >1</td> \n",
       "        <td id=\"T_b26a252a_05e2_11eb_9c56_0242ac11000erow12_col10\" class=\"data row12 col10\" >19</td> \n",
       "        <td id=\"T_b26a252a_05e2_11eb_9c56_0242ac11000erow12_col11\" class=\"data row12 col11\" >7</td> \n",
       "        <td id=\"T_b26a252a_05e2_11eb_9c56_0242ac11000erow12_col12\" class=\"data row12 col12\" >354</td> \n",
       "        <td id=\"T_b26a252a_05e2_11eb_9c56_0242ac11000erow12_col13\" class=\"data row12 col13\" >6</td> \n",
       "        <td id=\"T_b26a252a_05e2_11eb_9c56_0242ac11000erow12_col14\" class=\"data row12 col14\" >14</td> \n",
       "        <td id=\"T_b26a252a_05e2_11eb_9c56_0242ac11000erow12_col15\" class=\"data row12 col15\" >2</td> \n",
       "        <td id=\"T_b26a252a_05e2_11eb_9c56_0242ac11000erow12_col16\" class=\"data row12 col16\" >4</td> \n",
       "        <td id=\"T_b26a252a_05e2_11eb_9c56_0242ac11000erow12_col17\" class=\"data row12 col17\" >5</td> \n",
       "        <td id=\"T_b26a252a_05e2_11eb_9c56_0242ac11000erow12_col18\" class=\"data row12 col18\" >3</td> \n",
       "        <td id=\"T_b26a252a_05e2_11eb_9c56_0242ac11000erow12_col19\" class=\"data row12 col19\" >4</td> \n",
       "    </tr>    <tr> \n",
       "        <th id=\"T_b26a252a_05e2_11eb_9c56_0242ac11000elevel0_row13\" class=\"row_heading level0 row13\" >regression</th> \n",
       "        <td id=\"T_b26a252a_05e2_11eb_9c56_0242ac11000erow13_col0\" class=\"data row13 col0\" >119</td> \n",
       "        <td id=\"T_b26a252a_05e2_11eb_9c56_0242ac11000erow13_col1\" class=\"data row13 col1\" >59</td> \n",
       "        <td id=\"T_b26a252a_05e2_11eb_9c56_0242ac11000erow13_col2\" class=\"data row13 col2\" >21</td> \n",
       "        <td id=\"T_b26a252a_05e2_11eb_9c56_0242ac11000erow13_col3\" class=\"data row13 col3\" >42</td> \n",
       "        <td id=\"T_b26a252a_05e2_11eb_9c56_0242ac11000erow13_col4\" class=\"data row13 col4\" >31</td> \n",
       "        <td id=\"T_b26a252a_05e2_11eb_9c56_0242ac11000erow13_col5\" class=\"data row13 col5\" >34</td> \n",
       "        <td id=\"T_b26a252a_05e2_11eb_9c56_0242ac11000erow13_col6\" class=\"data row13 col6\" >9</td> \n",
       "        <td id=\"T_b26a252a_05e2_11eb_9c56_0242ac11000erow13_col7\" class=\"data row13 col7\" >37</td> \n",
       "        <td id=\"T_b26a252a_05e2_11eb_9c56_0242ac11000erow13_col8\" class=\"data row13 col8\" >2</td> \n",
       "        <td id=\"T_b26a252a_05e2_11eb_9c56_0242ac11000erow13_col9\" class=\"data row13 col9\" >6</td> \n",
       "        <td id=\"T_b26a252a_05e2_11eb_9c56_0242ac11000erow13_col10\" class=\"data row13 col10\" >24</td> \n",
       "        <td id=\"T_b26a252a_05e2_11eb_9c56_0242ac11000erow13_col11\" class=\"data row13 col11\" >11</td> \n",
       "        <td id=\"T_b26a252a_05e2_11eb_9c56_0242ac11000erow13_col12\" class=\"data row13 col12\" >6</td> \n",
       "        <td id=\"T_b26a252a_05e2_11eb_9c56_0242ac11000erow13_col13\" class=\"data row13 col13\" >347</td> \n",
       "        <td id=\"T_b26a252a_05e2_11eb_9c56_0242ac11000erow13_col14\" class=\"data row13 col14\" >6</td> \n",
       "        <td id=\"T_b26a252a_05e2_11eb_9c56_0242ac11000erow13_col15\" class=\"data row13 col15\" >10</td> \n",
       "        <td id=\"T_b26a252a_05e2_11eb_9c56_0242ac11000erow13_col16\" class=\"data row13 col16\" >28</td> \n",
       "        <td id=\"T_b26a252a_05e2_11eb_9c56_0242ac11000erow13_col17\" class=\"data row13 col17\" >2</td> \n",
       "        <td id=\"T_b26a252a_05e2_11eb_9c56_0242ac11000erow13_col18\" class=\"data row13 col18\" >16</td> \n",
       "        <td id=\"T_b26a252a_05e2_11eb_9c56_0242ac11000erow13_col19\" class=\"data row13 col19\" >8</td> \n",
       "    </tr>    <tr> \n",
       "        <th id=\"T_b26a252a_05e2_11eb_9c56_0242ac11000elevel0_row14\" class=\"row_heading level0 row14\" >dataset</th> \n",
       "        <td id=\"T_b26a252a_05e2_11eb_9c56_0242ac11000erow14_col0\" class=\"data row14 col0\" >99</td> \n",
       "        <td id=\"T_b26a252a_05e2_11eb_9c56_0242ac11000erow14_col1\" class=\"data row14 col1\" >53</td> \n",
       "        <td id=\"T_b26a252a_05e2_11eb_9c56_0242ac11000erow14_col2\" class=\"data row14 col2\" >32</td> \n",
       "        <td id=\"T_b26a252a_05e2_11eb_9c56_0242ac11000erow14_col3\" class=\"data row14 col3\" >20</td> \n",
       "        <td id=\"T_b26a252a_05e2_11eb_9c56_0242ac11000erow14_col4\" class=\"data row14 col4\" >13</td> \n",
       "        <td id=\"T_b26a252a_05e2_11eb_9c56_0242ac11000erow14_col5\" class=\"data row14 col5\" >28</td> \n",
       "        <td id=\"T_b26a252a_05e2_11eb_9c56_0242ac11000erow14_col6\" class=\"data row14 col6\" >9</td> \n",
       "        <td id=\"T_b26a252a_05e2_11eb_9c56_0242ac11000erow14_col7\" class=\"data row14 col7\" >9</td> \n",
       "        <td id=\"T_b26a252a_05e2_11eb_9c56_0242ac11000erow14_col8\" class=\"data row14 col8\" >11</td> \n",
       "        <td id=\"T_b26a252a_05e2_11eb_9c56_0242ac11000erow14_col9\" class=\"data row14 col9\" >11</td> \n",
       "        <td id=\"T_b26a252a_05e2_11eb_9c56_0242ac11000erow14_col10\" class=\"data row14 col10\" >6</td> \n",
       "        <td id=\"T_b26a252a_05e2_11eb_9c56_0242ac11000erow14_col11\" class=\"data row14 col11\" >7</td> \n",
       "        <td id=\"T_b26a252a_05e2_11eb_9c56_0242ac11000erow14_col12\" class=\"data row14 col12\" >14</td> \n",
       "        <td id=\"T_b26a252a_05e2_11eb_9c56_0242ac11000erow14_col13\" class=\"data row14 col13\" >6</td> \n",
       "        <td id=\"T_b26a252a_05e2_11eb_9c56_0242ac11000erow14_col14\" class=\"data row14 col14\" >340</td> \n",
       "        <td id=\"T_b26a252a_05e2_11eb_9c56_0242ac11000erow14_col15\" class=\"data row14 col15\" >6</td> \n",
       "        <td id=\"T_b26a252a_05e2_11eb_9c56_0242ac11000erow14_col16\" class=\"data row14 col16\" >7</td> \n",
       "        <td id=\"T_b26a252a_05e2_11eb_9c56_0242ac11000erow14_col17\" class=\"data row14 col17\" >5</td> \n",
       "        <td id=\"T_b26a252a_05e2_11eb_9c56_0242ac11000erow14_col18\" class=\"data row14 col18\" >17</td> \n",
       "        <td id=\"T_b26a252a_05e2_11eb_9c56_0242ac11000erow14_col19\" class=\"data row14 col19\" >12</td> \n",
       "    </tr>    <tr> \n",
       "        <th id=\"T_b26a252a_05e2_11eb_9c56_0242ac11000elevel0_row15\" class=\"row_heading level0 row15\" >r</th> \n",
       "        <td id=\"T_b26a252a_05e2_11eb_9c56_0242ac11000erow15_col0\" class=\"data row15 col0\" >63</td> \n",
       "        <td id=\"T_b26a252a_05e2_11eb_9c56_0242ac11000erow15_col1\" class=\"data row15 col1\" >24</td> \n",
       "        <td id=\"T_b26a252a_05e2_11eb_9c56_0242ac11000erow15_col2\" class=\"data row15 col2\" >5</td> \n",
       "        <td id=\"T_b26a252a_05e2_11eb_9c56_0242ac11000erow15_col3\" class=\"data row15 col3\" >9</td> \n",
       "        <td id=\"T_b26a252a_05e2_11eb_9c56_0242ac11000erow15_col4\" class=\"data row15 col4\" >10</td> \n",
       "        <td id=\"T_b26a252a_05e2_11eb_9c56_0242ac11000erow15_col5\" class=\"data row15 col5\" >10</td> \n",
       "        <td id=\"T_b26a252a_05e2_11eb_9c56_0242ac11000erow15_col6\" class=\"data row15 col6\" >1</td> \n",
       "        <td id=\"T_b26a252a_05e2_11eb_9c56_0242ac11000erow15_col7\" class=\"data row15 col7\" >1</td> \n",
       "        <td id=\"T_b26a252a_05e2_11eb_9c56_0242ac11000erow15_col8\" class=\"data row15 col8\" >4</td> \n",
       "        <td id=\"T_b26a252a_05e2_11eb_9c56_0242ac11000erow15_col9\" class=\"data row15 col9\" >2</td> \n",
       "        <td id=\"T_b26a252a_05e2_11eb_9c56_0242ac11000erow15_col10\" class=\"data row15 col10\" >22</td> \n",
       "        <td id=\"T_b26a252a_05e2_11eb_9c56_0242ac11000erow15_col11\" class=\"data row15 col11\" >3</td> \n",
       "        <td id=\"T_b26a252a_05e2_11eb_9c56_0242ac11000erow15_col12\" class=\"data row15 col12\" >2</td> \n",
       "        <td id=\"T_b26a252a_05e2_11eb_9c56_0242ac11000erow15_col13\" class=\"data row15 col13\" >10</td> \n",
       "        <td id=\"T_b26a252a_05e2_11eb_9c56_0242ac11000erow15_col14\" class=\"data row15 col14\" >6</td> \n",
       "        <td id=\"T_b26a252a_05e2_11eb_9c56_0242ac11000erow15_col15\" class=\"data row15 col15\" >268</td> \n",
       "        <td id=\"T_b26a252a_05e2_11eb_9c56_0242ac11000erow15_col16\" class=\"data row15 col16\" >13</td> \n",
       "        <td id=\"T_b26a252a_05e2_11eb_9c56_0242ac11000erow15_col17\" class=\"data row15 col17\" >16</td> \n",
       "        <td id=\"T_b26a252a_05e2_11eb_9c56_0242ac11000erow15_col18\" class=\"data row15 col18\" >16</td> \n",
       "        <td id=\"T_b26a252a_05e2_11eb_9c56_0242ac11000erow15_col19\" class=\"data row15 col19\" >7</td> \n",
       "    </tr>    <tr> \n",
       "        <th id=\"T_b26a252a_05e2_11eb_9c56_0242ac11000elevel0_row16\" class=\"row_heading level0 row16\" >predictive-modeling</th> \n",
       "        <td id=\"T_b26a252a_05e2_11eb_9c56_0242ac11000erow16_col0\" class=\"data row16 col0\" >123</td> \n",
       "        <td id=\"T_b26a252a_05e2_11eb_9c56_0242ac11000erow16_col1\" class=\"data row16 col1\" >35</td> \n",
       "        <td id=\"T_b26a252a_05e2_11eb_9c56_0242ac11000erow16_col2\" class=\"data row16 col2\" >32</td> \n",
       "        <td id=\"T_b26a252a_05e2_11eb_9c56_0242ac11000erow16_col3\" class=\"data row16 col3\" >13</td> \n",
       "        <td id=\"T_b26a252a_05e2_11eb_9c56_0242ac11000erow16_col4\" class=\"data row16 col4\" >11</td> \n",
       "        <td id=\"T_b26a252a_05e2_11eb_9c56_0242ac11000erow16_col5\" class=\"data row16 col5\" >27</td> \n",
       "        <td id=\"T_b26a252a_05e2_11eb_9c56_0242ac11000erow16_col6\" class=\"data row16 col6\" >6</td> \n",
       "        <td id=\"T_b26a252a_05e2_11eb_9c56_0242ac11000erow16_col7\" class=\"data row16 col7\" >12</td> \n",
       "        <td id=\"T_b26a252a_05e2_11eb_9c56_0242ac11000erow16_col8\" class=\"data row16 col8\" >1</td> \n",
       "        <td id=\"T_b26a252a_05e2_11eb_9c56_0242ac11000erow16_col9\" class=\"data row16 col9\" >6</td> \n",
       "        <td id=\"T_b26a252a_05e2_11eb_9c56_0242ac11000erow16_col10\" class=\"data row16 col10\" >31</td> \n",
       "        <td id=\"T_b26a252a_05e2_11eb_9c56_0242ac11000erow16_col11\" class=\"data row16 col11\" >13</td> \n",
       "        <td id=\"T_b26a252a_05e2_11eb_9c56_0242ac11000erow16_col12\" class=\"data row16 col12\" >4</td> \n",
       "        <td id=\"T_b26a252a_05e2_11eb_9c56_0242ac11000erow16_col13\" class=\"data row16 col13\" >28</td> \n",
       "        <td id=\"T_b26a252a_05e2_11eb_9c56_0242ac11000erow16_col14\" class=\"data row16 col14\" >7</td> \n",
       "        <td id=\"T_b26a252a_05e2_11eb_9c56_0242ac11000erow16_col15\" class=\"data row16 col15\" >13</td> \n",
       "        <td id=\"T_b26a252a_05e2_11eb_9c56_0242ac11000erow16_col16\" class=\"data row16 col16\" >265</td> \n",
       "        <td id=\"T_b26a252a_05e2_11eb_9c56_0242ac11000erow16_col17\" class=\"data row16 col17\" >0</td> \n",
       "        <td id=\"T_b26a252a_05e2_11eb_9c56_0242ac11000erow16_col18\" class=\"data row16 col18\" >16</td> \n",
       "        <td id=\"T_b26a252a_05e2_11eb_9c56_0242ac11000erow16_col19\" class=\"data row16 col19\" >21</td> \n",
       "    </tr>    <tr> \n",
       "        <th id=\"T_b26a252a_05e2_11eb_9c56_0242ac11000elevel0_row17\" class=\"row_heading level0 row17\" >clustering</th> \n",
       "        <td id=\"T_b26a252a_05e2_11eb_9c56_0242ac11000erow17_col0\" class=\"data row17 col0\" >61</td> \n",
       "        <td id=\"T_b26a252a_05e2_11eb_9c56_0242ac11000erow17_col1\" class=\"data row17 col1\" >45</td> \n",
       "        <td id=\"T_b26a252a_05e2_11eb_9c56_0242ac11000erow17_col2\" class=\"data row17 col2\" >2</td> \n",
       "        <td id=\"T_b26a252a_05e2_11eb_9c56_0242ac11000erow17_col3\" class=\"data row17 col3\" >8</td> \n",
       "        <td id=\"T_b26a252a_05e2_11eb_9c56_0242ac11000erow17_col4\" class=\"data row17 col4\" >0</td> \n",
       "        <td id=\"T_b26a252a_05e2_11eb_9c56_0242ac11000erow17_col5\" class=\"data row17 col5\" >12</td> \n",
       "        <td id=\"T_b26a252a_05e2_11eb_9c56_0242ac11000erow17_col6\" class=\"data row17 col6\" >0</td> \n",
       "        <td id=\"T_b26a252a_05e2_11eb_9c56_0242ac11000erow17_col7\" class=\"data row17 col7\" >24</td> \n",
       "        <td id=\"T_b26a252a_05e2_11eb_9c56_0242ac11000erow17_col8\" class=\"data row17 col8\" >9</td> \n",
       "        <td id=\"T_b26a252a_05e2_11eb_9c56_0242ac11000erow17_col9\" class=\"data row17 col9\" >0</td> \n",
       "        <td id=\"T_b26a252a_05e2_11eb_9c56_0242ac11000erow17_col10\" class=\"data row17 col10\" >20</td> \n",
       "        <td id=\"T_b26a252a_05e2_11eb_9c56_0242ac11000erow17_col11\" class=\"data row17 col11\" >3</td> \n",
       "        <td id=\"T_b26a252a_05e2_11eb_9c56_0242ac11000erow17_col12\" class=\"data row17 col12\" >5</td> \n",
       "        <td id=\"T_b26a252a_05e2_11eb_9c56_0242ac11000erow17_col13\" class=\"data row17 col13\" >2</td> \n",
       "        <td id=\"T_b26a252a_05e2_11eb_9c56_0242ac11000erow17_col14\" class=\"data row17 col14\" >5</td> \n",
       "        <td id=\"T_b26a252a_05e2_11eb_9c56_0242ac11000erow17_col15\" class=\"data row17 col15\" >16</td> \n",
       "        <td id=\"T_b26a252a_05e2_11eb_9c56_0242ac11000erow17_col16\" class=\"data row17 col16\" >0</td> \n",
       "        <td id=\"T_b26a252a_05e2_11eb_9c56_0242ac11000erow17_col17\" class=\"data row17 col17\" >257</td> \n",
       "        <td id=\"T_b26a252a_05e2_11eb_9c56_0242ac11000erow17_col18\" class=\"data row17 col18\" >3</td> \n",
       "        <td id=\"T_b26a252a_05e2_11eb_9c56_0242ac11000erow17_col19\" class=\"data row17 col19\" >3</td> \n",
       "    </tr>    <tr> \n",
       "        <th id=\"T_b26a252a_05e2_11eb_9c56_0242ac11000elevel0_row18\" class=\"row_heading level0 row18\" >statistics</th> \n",
       "        <td id=\"T_b26a252a_05e2_11eb_9c56_0242ac11000erow18_col0\" class=\"data row18 col0\" >89</td> \n",
       "        <td id=\"T_b26a252a_05e2_11eb_9c56_0242ac11000erow18_col1\" class=\"data row18 col1\" >35</td> \n",
       "        <td id=\"T_b26a252a_05e2_11eb_9c56_0242ac11000erow18_col2\" class=\"data row18 col2\" >12</td> \n",
       "        <td id=\"T_b26a252a_05e2_11eb_9c56_0242ac11000erow18_col3\" class=\"data row18 col3\" >11</td> \n",
       "        <td id=\"T_b26a252a_05e2_11eb_9c56_0242ac11000erow18_col4\" class=\"data row18 col4\" >3</td> \n",
       "        <td id=\"T_b26a252a_05e2_11eb_9c56_0242ac11000erow18_col5\" class=\"data row18 col5\" >19</td> \n",
       "        <td id=\"T_b26a252a_05e2_11eb_9c56_0242ac11000erow18_col6\" class=\"data row18 col6\" >0</td> \n",
       "        <td id=\"T_b26a252a_05e2_11eb_9c56_0242ac11000erow18_col7\" class=\"data row18 col7\" >6</td> \n",
       "        <td id=\"T_b26a252a_05e2_11eb_9c56_0242ac11000erow18_col8\" class=\"data row18 col8\" >3</td> \n",
       "        <td id=\"T_b26a252a_05e2_11eb_9c56_0242ac11000erow18_col9\" class=\"data row18 col9\" >1</td> \n",
       "        <td id=\"T_b26a252a_05e2_11eb_9c56_0242ac11000erow18_col10\" class=\"data row18 col10\" >22</td> \n",
       "        <td id=\"T_b26a252a_05e2_11eb_9c56_0242ac11000erow18_col11\" class=\"data row18 col11\" >1</td> \n",
       "        <td id=\"T_b26a252a_05e2_11eb_9c56_0242ac11000erow18_col12\" class=\"data row18 col12\" >3</td> \n",
       "        <td id=\"T_b26a252a_05e2_11eb_9c56_0242ac11000erow18_col13\" class=\"data row18 col13\" >16</td> \n",
       "        <td id=\"T_b26a252a_05e2_11eb_9c56_0242ac11000erow18_col14\" class=\"data row18 col14\" >17</td> \n",
       "        <td id=\"T_b26a252a_05e2_11eb_9c56_0242ac11000erow18_col15\" class=\"data row18 col15\" >16</td> \n",
       "        <td id=\"T_b26a252a_05e2_11eb_9c56_0242ac11000erow18_col16\" class=\"data row18 col16\" >16</td> \n",
       "        <td id=\"T_b26a252a_05e2_11eb_9c56_0242ac11000erow18_col17\" class=\"data row18 col17\" >3</td> \n",
       "        <td id=\"T_b26a252a_05e2_11eb_9c56_0242ac11000erow18_col18\" class=\"data row18 col18\" >234</td> \n",
       "        <td id=\"T_b26a252a_05e2_11eb_9c56_0242ac11000erow18_col19\" class=\"data row18 col19\" >3</td> \n",
       "    </tr>    <tr> \n",
       "        <th id=\"T_b26a252a_05e2_11eb_9c56_0242ac11000elevel0_row19\" class=\"row_heading level0 row19\" >machine-learning-model</th> \n",
       "        <td id=\"T_b26a252a_05e2_11eb_9c56_0242ac11000erow19_col0\" class=\"data row19 col0\" >139</td> \n",
       "        <td id=\"T_b26a252a_05e2_11eb_9c56_0242ac11000erow19_col1\" class=\"data row19 col1\" >37</td> \n",
       "        <td id=\"T_b26a252a_05e2_11eb_9c56_0242ac11000erow19_col2\" class=\"data row19 col2\" >19</td> \n",
       "        <td id=\"T_b26a252a_05e2_11eb_9c56_0242ac11000erow19_col3\" class=\"data row19 col3\" >10</td> \n",
       "        <td id=\"T_b26a252a_05e2_11eb_9c56_0242ac11000erow19_col4\" class=\"data row19 col4\" >17</td> \n",
       "        <td id=\"T_b26a252a_05e2_11eb_9c56_0242ac11000erow19_col5\" class=\"data row19 col5\" >21</td> \n",
       "        <td id=\"T_b26a252a_05e2_11eb_9c56_0242ac11000erow19_col6\" class=\"data row19 col6\" >9</td> \n",
       "        <td id=\"T_b26a252a_05e2_11eb_9c56_0242ac11000erow19_col7\" class=\"data row19 col7\" >18</td> \n",
       "        <td id=\"T_b26a252a_05e2_11eb_9c56_0242ac11000erow19_col8\" class=\"data row19 col8\" >4</td> \n",
       "        <td id=\"T_b26a252a_05e2_11eb_9c56_0242ac11000erow19_col9\" class=\"data row19 col9\" >4</td> \n",
       "        <td id=\"T_b26a252a_05e2_11eb_9c56_0242ac11000erow19_col10\" class=\"data row19 col10\" >7</td> \n",
       "        <td id=\"T_b26a252a_05e2_11eb_9c56_0242ac11000erow19_col11\" class=\"data row19 col11\" >5</td> \n",
       "        <td id=\"T_b26a252a_05e2_11eb_9c56_0242ac11000erow19_col12\" class=\"data row19 col12\" >4</td> \n",
       "        <td id=\"T_b26a252a_05e2_11eb_9c56_0242ac11000erow19_col13\" class=\"data row19 col13\" >8</td> \n",
       "        <td id=\"T_b26a252a_05e2_11eb_9c56_0242ac11000erow19_col14\" class=\"data row19 col14\" >12</td> \n",
       "        <td id=\"T_b26a252a_05e2_11eb_9c56_0242ac11000erow19_col15\" class=\"data row19 col15\" >7</td> \n",
       "        <td id=\"T_b26a252a_05e2_11eb_9c56_0242ac11000erow19_col16\" class=\"data row19 col16\" >21</td> \n",
       "        <td id=\"T_b26a252a_05e2_11eb_9c56_0242ac11000erow19_col17\" class=\"data row19 col17\" >3</td> \n",
       "        <td id=\"T_b26a252a_05e2_11eb_9c56_0242ac11000erow19_col18\" class=\"data row19 col18\" >3</td> \n",
       "        <td id=\"T_b26a252a_05e2_11eb_9c56_0242ac11000erow19_col19\" class=\"data row19 col19\" >224</td> \n",
       "    </tr></tbody> \n",
       "</table> "
      ],
      "text/plain": [
       "<pandas.io.formats.style.Styler at 0x7f8fe8baf978>"
      ]
     },
     "execution_count": 17,
     "metadata": {},
     "output_type": "execute_result"
    }
   ],
   "source": [
    "relations_most_used = associations.loc[most_used.index, most_used.index]\n",
    "\n",
    "def style_cells(x):\n",
    "    helper_df = pd.DataFrame('', index=x.index, columns=x.columns)\n",
    "    helper_df.loc[\"time-series\", \"r\"] = \"background-color: yellow\"\n",
    "    helper_df.loc[\"r\", \"time-series\"] = \"background-color: yellow\"\n",
    "    for k in range(helper_df.shape[0]):\n",
    "        helper_df.iloc[k,k] = \"color: blue\"\n",
    "    \n",
    "    return helper_df\n",
    "\n",
    "relations_most_used.style.apply(style_cells, axis=None)"
   ]
  },
  {
   "cell_type": "markdown",
   "metadata": {},
   "source": [
    "Les cellules colorées en jaune nous indiquent que time-series a été utilisée avec r 22 fois. Les valeurs en bleu nous indiquent combien de fois chacun des tags a été utilisé. Nous avons vu précédemment que la machine learning a été utilisés 2693 fois et nous le confirmons maintenant.\n",
    "\n",
    "Il est difficile pour un humain de comprendre ce qui se passe dans cette dataframe. Créons une heatmap. Mais avant de le faire, débarrassons-nous des valeurs en bleu, sinon les couleurs seront trop faussées."
   ]
  },
  {
   "cell_type": "code",
   "execution_count": 18,
   "metadata": {
    "collapsed": true
   },
   "outputs": [],
   "source": [
    "for i in range(relations_most_used.shape[0]):\n",
    "    relations_most_used.iloc[i,i] = pd.np.NaN"
   ]
  },
  {
   "cell_type": "code",
   "execution_count": 23,
   "metadata": {
    "collapsed": false
   },
   "outputs": [
    {
     "data": {
      "text/plain": [
       "<matplotlib.axes._subplots.AxesSubplot at 0x7f8fe49ae630>"
      ]
     },
     "execution_count": 23,
     "metadata": {},
     "output_type": "execute_result"
    },
    {
     "data": {
      "image/png": "[encoded data removed]",
      "text/plain": [
       "<matplotlib.figure.Figure at 0x7f8fe4699eb8>"
      ]
     },
     "metadata": {},
     "output_type": "display_data"
    }
   ],
   "source": [
    "plt.figure(figsize=(12,8))\n",
    "sns.heatmap(relations_most_used, cmap=\"Reds\", annot=False)"
   ]
  },
  {
   "cell_type": "markdown",
   "metadata": {},
   "source": [
    "Les tags les plus utilisés semblent également avoir les relations les plus fortes, comme le montre la concentration sombre dans le coin haut gauche. Cependant, cela pourrait simplement être dû au fait que chacun de ces tags est beaucoup utilisé, et finit donc par être  ensemble beaucoup sans même avoir une relation forte entre eux.\n",
    "\n",
    "Une manifestation plus intuitive de ce phénomène est la suivante. Beaucoup de gens achètent du pain, beaucoup de gens achètent du papier hygiénique, donc ils finissent par être achetés ensemble, mais acheter l'un d'eux n'augmente pas les chances d'acheter l'autre.\n",
    "\n",
    "Un autre inconvénient de cette tentative est qu'elle ne regarde que les relations entre les paires de tags et non entre plusieurs groupes de tags. Par exemple, il se peut que, lorsqu'ils sont utilisés ensemble, dataset  et scikit-learn aient une relation «forte» avec pandas, mais chacun par lui-même n'est pas.\n",
    "\n",
    "\n",
    "Alors, comment attaquer ces deux problèmes? Il existe une puissante technique d'exploration de données qui nous permet de gérer cela: les règles d'association. Les règles d'association nous permettent de repérer de manière analytique des relations telles que «les gens qui achètent du lait achètent également des œufs». De plus, nous pouvons également mesurer la force de ces relations sur plusieurs fronts: à quel point la relation est commune, à quel point elle est forte et à quel point les composants de la relation sont indépendants (le papier hygiénique et le pain sont probablement plus indépendants que les œufs et le lait).\n",
    "\n",
    "### Entrez la connaissance du domaine\n",
    "\n",
    "Keras, scikit-learn, TensorFlow sont toutes des bibliothèques Python qui permettent à leurs utilisateurs d'utiliser le deep learning (un type de réseau neuronal).\n",
    "\n",
    "La plupart des tags principals sont tous intimement liés au deep learning. Si nous voulons être très précis, nous pouvons suggérer la création de contenu Python qui utilise deep learning pour les problèmes de classification (et d'autres variantes de cette suggestion).\n",
    "\n",
    "En un coup d'œil, une personne ayant une connaissance suffisante du domaine peut dire que le sujet le plus populaire en ce moment, comme le montre notre analyse, est le deep learning."
   ]
  },
  {
   "cell_type": "markdown",
   "metadata": {},
   "source": [
    "Lisons le fichier dans une dataframe appelée all_q. Nous analyserons les dates au moment de la lecture"
   ]
  },
  {
   "cell_type": "code",
   "execution_count": 33,
   "metadata": {
    "collapsed": true
   },
   "outputs": [],
   "source": [
    "all_q = pd.read_csv(\"all_questions.csv\", parse_dates=[\"CreationDate\"])"
   ]
  },
  {
   "cell_type": "code",
   "execution_count": 34,
   "metadata": {
    "collapsed": true
   },
   "outputs": [],
   "source": [
    "all_q[\"Tags\"] = all_q[\"Tags\"].str.replace(\"^<|>$\", \"\").str.split(\"><\")"
   ]
  },
  {
   "cell_type": "markdown",
   "metadata": {},
   "source": [
    "Avant de décider quelles questions doivent être classées comme des questions de deep learning, nous devons décider quelles tags sont des tags de deep learning.\n",
    "\n",
    "La définition de ce qui constitue un tag de deep learning que nous utiliserons est: un tag qui appartient à la liste [\"lstm\", \"cnn\", \"scikit-learn\", \"tensorflow\", \"keras\", \"neural-network\", \"deep-learning\"].\n",
    "\n",
    "Cette liste a été obtenue en examinant toutes les balises dans most_used et en identifiant celles qui avaient un rapport avec le deep learning.\n",
    "\n",
    "Nous allons maintenant créer une fonction qui attribue 1 aux questions de deep learning et 0 autrement."
   ]
  },
  {
   "cell_type": "code",
   "execution_count": 35,
   "metadata": {
    "collapsed": true
   },
   "outputs": [],
   "source": [
    "def class_deep_learning(tags):\n",
    "    for tag in tags:\n",
    "        if tag in [\"lstm\", \"cnn\", \"scikit-learn\", \"tensorflow\",\n",
    "                   \"keras\", \"neural-network\", \"deep-learning\"]:\n",
    "            return 1\n",
    "    return 0"
   ]
  },
  {
   "cell_type": "code",
   "execution_count": 36,
   "metadata": {
    "collapsed": true
   },
   "outputs": [],
   "source": [
    "all_q[\"DeepLearning\"] = all_q[\"Tags\"].apply(class_deep_learning)"
   ]
  },
  {
   "cell_type": "code",
   "execution_count": 39,
   "metadata": {
    "collapsed": false
   },
   "outputs": [
    {
     "data": {
      "text/html": [
       "<div>\n",
       "<style scoped>\n",
       "    .dataframe tbody tr th:only-of-type {\n",
       "        vertical-align: middle;\n",
       "    }\n",
       "\n",
       "    .dataframe tbody tr th {\n",
       "        vertical-align: top;\n",
       "    }\n",
       "\n",
       "    .dataframe thead th {\n",
       "        text-align: right;\n",
       "    }\n",
       "</style>\n",
       "<table border=\"1\" class=\"dataframe\">\n",
       "  <thead>\n",
       "    <tr style=\"text-align: right;\">\n",
       "      <th></th>\n",
       "      <th>Id</th>\n",
       "      <th>CreationDate</th>\n",
       "      <th>Tags</th>\n",
       "      <th>DeepLearning</th>\n",
       "    </tr>\n",
       "  </thead>\n",
       "  <tbody>\n",
       "    <tr>\n",
       "      <th>12309</th>\n",
       "      <td>30267</td>\n",
       "      <td>2018-04-13 10:48:43</td>\n",
       "      <td>[machine-learning, data-mining, dataset, reinf...</td>\n",
       "      <td>0</td>\n",
       "    </tr>\n",
       "    <tr>\n",
       "      <th>15409</th>\n",
       "      <td>53084</td>\n",
       "      <td>2019-06-02 13:08:07</td>\n",
       "      <td>[machine-learning, neural-network, deep-learni...</td>\n",
       "      <td>1</td>\n",
       "    </tr>\n",
       "    <tr>\n",
       "      <th>3304</th>\n",
       "      <td>38548</td>\n",
       "      <td>2018-09-20 14:18:36</td>\n",
       "      <td>[python, time-series, lstm, forecasting]</td>\n",
       "      <td>1</td>\n",
       "    </tr>\n",
       "    <tr>\n",
       "      <th>10077</th>\n",
       "      <td>8704</td>\n",
       "      <td>2015-11-04 04:25:31</td>\n",
       "      <td>[cosine-distance]</td>\n",
       "      <td>0</td>\n",
       "    </tr>\n",
       "    <tr>\n",
       "      <th>7726</th>\n",
       "      <td>18313</td>\n",
       "      <td>2017-04-12 21:30:11</td>\n",
       "      <td>[machine-learning, regression, probability]</td>\n",
       "      <td>0</td>\n",
       "    </tr>\n",
       "  </tbody>\n",
       "</table>\n",
       "</div>"
      ],
      "text/plain": [
       "          Id        CreationDate  \\\n",
       "12309  30267 2018-04-13 10:48:43   \n",
       "15409  53084 2019-06-02 13:08:07   \n",
       "3304   38548 2018-09-20 14:18:36   \n",
       "10077   8704 2015-11-04 04:25:31   \n",
       "7726   18313 2017-04-12 21:30:11   \n",
       "\n",
       "                                                    Tags  DeepLearning  \n",
       "12309  [machine-learning, data-mining, dataset, reinf...             0  \n",
       "15409  [machine-learning, neural-network, deep-learni...             1  \n",
       "3304            [python, time-series, lstm, forecasting]             1  \n",
       "10077                                  [cosine-distance]             0  \n",
       "7726         [machine-learning, regression, probability]             0  "
      ]
     },
     "execution_count": 39,
     "metadata": {},
     "output_type": "execute_result"
    }
   ],
   "source": [
    "all_q.sample(5)"
   ]
  },
  {
   "cell_type": "markdown",
   "metadata": {},
   "source": [
    "La data-science-technologie n'est pas quelque chose d'aussi dynamique pour mériter un suivi quotidien, hebdomadaire ou même mensuel.\n",
    "\n",
    "Suivons le trimestriellement.\n",
    "\n",
    "Comme nous n'avons pas toutes les données pour le premier trimestre de 2020, nous allons nous débarrasser de ces datas"
   ]
  },
  {
   "cell_type": "code",
   "execution_count": 40,
   "metadata": {
    "collapsed": true
   },
   "outputs": [],
   "source": [
    "all_q = all_q[all_q[\"CreationDate\"].dt.year < 2020]"
   ]
  },
  {
   "cell_type": "markdown",
   "metadata": {},
   "source": [
    "Créons une colonne qui identifie le trimestre au cours duquel une question a été posée."
   ]
  },
  {
   "cell_type": "code",
   "execution_count": 41,
   "metadata": {
    "collapsed": true
   },
   "outputs": [],
   "source": [
    "def fetch_quarter(datetime):\n",
    "    year = str(datetime.year)[-2:]\n",
    "    quarter = str(((datetime.month-1) // 3) + 1)\n",
    "    return \"{y}Q{q}\".format(y=year, q=quarter)\n",
    "\n",
    "all_q[\"Quarter\"] = all_q[\"CreationDate\"].apply(fetch_quarter)"
   ]
  },
  {
   "cell_type": "code",
   "execution_count": 42,
   "metadata": {
    "collapsed": false
   },
   "outputs": [
    {
     "data": {
      "text/html": [
       "<div>\n",
       "<style scoped>\n",
       "    .dataframe tbody tr th:only-of-type {\n",
       "        vertical-align: middle;\n",
       "    }\n",
       "\n",
       "    .dataframe tbody tr th {\n",
       "        vertical-align: top;\n",
       "    }\n",
       "\n",
       "    .dataframe thead th {\n",
       "        text-align: right;\n",
       "    }\n",
       "</style>\n",
       "<table border=\"1\" class=\"dataframe\">\n",
       "  <thead>\n",
       "    <tr style=\"text-align: right;\">\n",
       "      <th></th>\n",
       "      <th>Id</th>\n",
       "      <th>CreationDate</th>\n",
       "      <th>Tags</th>\n",
       "      <th>DeepLearning</th>\n",
       "      <th>Quarter</th>\n",
       "    </tr>\n",
       "  </thead>\n",
       "  <tbody>\n",
       "    <tr>\n",
       "      <th>0</th>\n",
       "      <td>45416</td>\n",
       "      <td>2019-02-12 00:36:29</td>\n",
       "      <td>[python, keras, tensorflow, cnn, probability]</td>\n",
       "      <td>1</td>\n",
       "      <td>19Q1</td>\n",
       "    </tr>\n",
       "    <tr>\n",
       "      <th>1</th>\n",
       "      <td>45418</td>\n",
       "      <td>2019-02-12 00:50:39</td>\n",
       "      <td>[neural-network]</td>\n",
       "      <td>1</td>\n",
       "      <td>19Q1</td>\n",
       "    </tr>\n",
       "    <tr>\n",
       "      <th>2</th>\n",
       "      <td>45422</td>\n",
       "      <td>2019-02-12 04:40:51</td>\n",
       "      <td>[python, ibm-watson, chatbot]</td>\n",
       "      <td>0</td>\n",
       "      <td>19Q1</td>\n",
       "    </tr>\n",
       "    <tr>\n",
       "      <th>3</th>\n",
       "      <td>45426</td>\n",
       "      <td>2019-02-12 04:51:49</td>\n",
       "      <td>[keras]</td>\n",
       "      <td>1</td>\n",
       "      <td>19Q1</td>\n",
       "    </tr>\n",
       "    <tr>\n",
       "      <th>4</th>\n",
       "      <td>45427</td>\n",
       "      <td>2019-02-12 05:08:24</td>\n",
       "      <td>[r, predictive-modeling, machine-learning-mode...</td>\n",
       "      <td>0</td>\n",
       "      <td>19Q1</td>\n",
       "    </tr>\n",
       "  </tbody>\n",
       "</table>\n",
       "</div>"
      ],
      "text/plain": [
       "      Id        CreationDate  \\\n",
       "0  45416 2019-02-12 00:36:29   \n",
       "1  45418 2019-02-12 00:50:39   \n",
       "2  45422 2019-02-12 04:40:51   \n",
       "3  45426 2019-02-12 04:51:49   \n",
       "4  45427 2019-02-12 05:08:24   \n",
       "\n",
       "                                                Tags  DeepLearning Quarter  \n",
       "0      [python, keras, tensorflow, cnn, probability]             1    19Q1  \n",
       "1                                   [neural-network]             1    19Q1  \n",
       "2                      [python, ibm-watson, chatbot]             0    19Q1  \n",
       "3                                            [keras]             1    19Q1  \n",
       "4  [r, predictive-modeling, machine-learning-mode...             0    19Q1  "
      ]
     },
     "execution_count": 42,
     "metadata": {},
     "output_type": "execute_result"
    }
   ],
   "source": [
    "all_q.head()"
   ]
  },
  {
   "cell_type": "markdown",
   "metadata": {},
   "source": [
    "Pour la dernière partie, nous allons regrouper par trimestre et:\n",
    "\n",
    "   -  Comptez le nombre de questions de deep learning.\n",
    "   -  Comptez le nombre total de questions.\n",
    "   -  Calculez le rapport entre les deux nombres ci-dessus."
   ]
  },
  {
   "cell_type": "code",
   "execution_count": 43,
   "metadata": {
    "collapsed": false
   },
   "outputs": [
    {
     "data": {
      "text/html": [
       "<div>\n",
       "<style scoped>\n",
       "    .dataframe tbody tr th:only-of-type {\n",
       "        vertical-align: middle;\n",
       "    }\n",
       "\n",
       "    .dataframe tbody tr th {\n",
       "        vertical-align: top;\n",
       "    }\n",
       "\n",
       "    .dataframe thead th {\n",
       "        text-align: right;\n",
       "    }\n",
       "</style>\n",
       "<table border=\"1\" class=\"dataframe\">\n",
       "  <thead>\n",
       "    <tr style=\"text-align: right;\">\n",
       "      <th></th>\n",
       "      <th>Quarter</th>\n",
       "      <th>DeepLearningQuestions</th>\n",
       "      <th>TotalQuestions</th>\n",
       "      <th>DeepLearningRate</th>\n",
       "    </tr>\n",
       "  </thead>\n",
       "  <tbody>\n",
       "    <tr>\n",
       "      <th>12</th>\n",
       "      <td>17Q2</td>\n",
       "      <td>226</td>\n",
       "      <td>647</td>\n",
       "      <td>0.349304</td>\n",
       "    </tr>\n",
       "    <tr>\n",
       "      <th>7</th>\n",
       "      <td>16Q1</td>\n",
       "      <td>110</td>\n",
       "      <td>516</td>\n",
       "      <td>0.213178</td>\n",
       "    </tr>\n",
       "    <tr>\n",
       "      <th>5</th>\n",
       "      <td>15Q3</td>\n",
       "      <td>45</td>\n",
       "      <td>311</td>\n",
       "      <td>0.144695</td>\n",
       "    </tr>\n",
       "    <tr>\n",
       "      <th>21</th>\n",
       "      <td>19Q3</td>\n",
       "      <td>941</td>\n",
       "      <td>2394</td>\n",
       "      <td>0.393066</td>\n",
       "    </tr>\n",
       "    <tr>\n",
       "      <th>20</th>\n",
       "      <td>19Q2</td>\n",
       "      <td>935</td>\n",
       "      <td>2393</td>\n",
       "      <td>0.390723</td>\n",
       "    </tr>\n",
       "  </tbody>\n",
       "</table>\n",
       "</div>"
      ],
      "text/plain": [
       "   Quarter  DeepLearningQuestions  TotalQuestions  DeepLearningRate\n",
       "12    17Q2                    226             647          0.349304\n",
       "7     16Q1                    110             516          0.213178\n",
       "5     15Q3                     45             311          0.144695\n",
       "21    19Q3                    941            2394          0.393066\n",
       "20    19Q2                    935            2393          0.390723"
      ]
     },
     "execution_count": 43,
     "metadata": {},
     "output_type": "execute_result"
    }
   ],
   "source": [
    "quarterly = all_q.groupby('Quarter').agg({\"DeepLearning\": ['sum', 'size']})\n",
    "quarterly.columns = ['DeepLearningQuestions', 'TotalQuestions']\n",
    "quarterly[\"DeepLearningRate\"] = quarterly[\"DeepLearningQuestions\"]\\\n",
    "                                /quarterly[\"TotalQuestions\"]\n",
    "# The following is done to help with visualizations later.\n",
    "quarterly.reset_index(inplace=True)\n",
    "quarterly.sample(5)"
   ]
  },
  {
   "cell_type": "code",
   "execution_count": 72,
   "metadata": {
    "collapsed": false
   },
   "outputs": [
    {
     "data": {
      "image/png": "[encoded data removed]",
      "text/plain": [
       "<matplotlib.figure.Figure at 0x7f8fe4d4b390>"
      ]
     },
     "metadata": {},
     "output_type": "display_data"
    }
   ],
   "source": [
    "ax1 = quarterly.plot(x=\"Quarter\", y=\"DeepLearningRate\",\n",
    "                    kind=\"line\", linestyle=\"-\", marker=\"o\", color=\"orange\",\n",
    "                    figsize=(24,12)\n",
    "                    )\n",
    "\n",
    "ax2 = quarterly.plot(x=\"Quarter\", y=\"TotalQuestions\",\n",
    "                     kind=\"bar\", ax=ax1, secondary_y=True, alpha=0.7, rot=45)\n",
    "\n",
    "for idx, t in quarterly[\"TotalQuestions\"].iteritems():\n",
    "    ax2.text(idx, t, str(t), ha=\"center\", va=\"bottom\")\n",
    "xlims = ax1.get_xlim()\n",
    "\n",
    "ax1.get_legend().remove()\n",
    "\n",
    "handles1, labels1 = ax1.get_legend_handles_labels()\n",
    "handles2, labels2 = ax2.get_legend_handles_labels()\n",
    "ax1.legend(handles=handles1 + handles2,\n",
    "           labels=labels1 + labels2,\n",
    "           loc=\"upper left\", prop={\"size\": 12})\n",
    "\n",
    "\n",
    "for ax in (ax1, ax2):\n",
    "    for where in (\"top\", \"right\"):\n",
    "        ax.spines[where].set_visible(False)\n",
    "        ax.tick_params(right=False, labelright=False)"
   ]
  },
  {
   "cell_type": "markdown",
   "metadata": {},
   "source": [
    "Il semble que les questions de deep learning aient été une tendance à forte croissance depuis le début de DSSE et il semble qu'elle plafonne."
   ]
  }
 ],
 "metadata": {
  "kernelspec": {
   "display_name": "Python 3",
   "language": "python",
   "name": "python3"
  },
  "language_info": {
   "codemirror_mode": {
    "name": "ipython",
    "version": 3
   },
   "file_extension": ".py",
   "mimetype": "text/x-python",
   "name": "python",
   "nbconvert_exporter": "python",
   "pygments_lexer": "ipython3",
   "version": "3.4.3"
  }
 },
 "nbformat": 4,
 "nbformat_minor": 2
}
